{
  "nbformat": 4,
  "nbformat_minor": 0,
  "metadata": {
    "colab": {
      "provenance": []
    },
    "kernelspec": {
      "name": "python3",
      "display_name": "Python 3"
    },
    "language_info": {
      "name": "python"
    }
  },
  "cells": [
    {
      "cell_type": "code",
      "execution_count": null,
      "metadata": {
        "id": "kW-oKtZFsgsD"
      },
      "outputs": [],
      "source": []
    },
    {
      "cell_type": "markdown",
      "metadata": {
        "id": "523c3492"
      },
      "source": [
        "# Task\n",
        "Generate Python code to create treemap and sunburst visualizations for the dataset provided in the file '/content/academic Stress level - maintainance 1.csv'."
      ]
    },
    {
      "cell_type": "markdown",
      "metadata": {
        "id": "6c5ea51c"
      },
      "source": [
        "## Load the data\n",
        "\n",
        "### Subtask:\n",
        "Load the dataset from '/content/academic Stress level - maintainance 1.csv' into a pandas DataFrame.\n"
      ]
    },
    {
      "cell_type": "markdown",
      "metadata": {
        "id": "8ad6e388"
      },
      "source": [
        "**Reasoning**:\n",
        "Load the data into a pandas DataFrame as instructed.\n",
        "\n"
      ]
    },
    {
      "cell_type": "code",
      "metadata": {
        "id": "9dfc8ac8"
      },
      "source": [
        "import pandas as pd\n",
        "\n",
        "df = pd.read_csv('/content/academic Stress level - maintainance 1.csv')"
      ],
      "execution_count": null,
      "outputs": []
    },
    {
      "cell_type": "markdown",
      "metadata": {
        "id": "99377e1c"
      },
      "source": [
        "## Inspect the data\n",
        "\n",
        "### Subtask:\n",
        "Display the first few rows and the columns of the DataFrame to understand its structure and content.\n"
      ]
    },
    {
      "cell_type": "markdown",
      "metadata": {
        "id": "b414f168"
      },
      "source": [
        "Here is the algorithm for the code you provided:\n",
        "\n",
        "1.  **Load the dataset:** Read the data from the CSV file located at `/content/academic Stress level - maintainance 1.csv` into a pandas DataFrame.\n",
        "2.  **Inspect the data:**\n",
        "    *   Display the first few rows of the DataFrame to get a glimpse of the data structure and content.\n",
        "    *   Display information about the DataFrame, including column names, non-null counts, and data types, to identify missing values and understand data types.\n",
        "3.  **Handle missing values:**\n",
        "    *   Fill any missing values in the 'Study Environment' column with the string 'Unknown'.\n",
        "    *   Display the DataFrame information again to confirm that the missing values in 'Study Environment' have been handled.\n",
        "4.  **Generate Treemap Visualization:**\n",
        "    *   Import the `plotly.express` library.\n",
        "    *   Create a treemap visualization using the DataFrame.\n",
        "    *   Define the hierarchical path for the treemap using the columns 'Your Academic Stage', 'Study Environment', and 'What coping strategy you use as a student?'.\n",
        "    *   Specify 'Rate your academic stress index ' as the values to determine the size of the rectangles in the treemap.\n",
        "    *   Set a title for the treemap.\n",
        "    *   Update the layout margins for better visualization.\n",
        "    *   Display the treemap.\n",
        "5.  **Generate Sunburst Visualization:**\n",
        "    *   Import the `plotly.express` library (if not already imported).\n",
        "    *   Create a sunburst visualization using the DataFrame.\n",
        "    *   Define the hierarchical path for the sunburst chart using the columns 'Your Academic Stage', 'Study Environment', and 'What coping strategy you use as a student?'.\n",
        "    *   Specify 'Rate your academic stress index ' as the values to determine the size of the segments in the sunburst chart.\n",
        "    *   Set a title for the sunburst chart.\n",
        "    *   Display the sunburst chart.\n",
        "6.  **Summarize Findings:**\n",
        "    *   Provide a summary of the key findings from the data loading, inspection, handling missing values, and visualization steps.\n",
        "    *   Offer insights or suggest potential next steps for further analysis based on the visualizations and data characteristics."
      ]
    },
    {
      "cell_type": "markdown",
      "metadata": {
        "id": "d83c00c3"
      },
      "source": [
        "**Reasoning**:\n",
        "Display the first few rows and the column information of the DataFrame to understand its structure and content.\n",
        "\n"
      ]
    },
    {
      "cell_type": "code",
      "metadata": {
        "colab": {
          "base_uri": "https://localhost:8080/",
          "height": 865
        },
        "id": "c2d87fc9",
        "outputId": "2c331c30-933b-424a-895a-f74e60063192"
      },
      "source": [
        "display(df.head())\n",
        "display(df.info())"
      ],
      "execution_count": null,
      "outputs": [
        {
          "output_type": "display_data",
          "data": {
            "text/plain": [
              "             Timestamp Your Academic Stage  Peer pressure  \\\n",
              "0  24/07/2025 22:05:39       undergraduate              4   \n",
              "1  24/07/2025 22:05:52       undergraduate              3   \n",
              "2  24/07/2025 22:06:39       undergraduate              1   \n",
              "3  24/07/2025 22:06:45       undergraduate              3   \n",
              "4  24/07/2025 22:08:06       undergraduate              3   \n",
              "\n",
              "   Academic pressure from your home Study Environment  \\\n",
              "0                                 5             Noisy   \n",
              "1                                 4          Peaceful   \n",
              "2                                 1          Peaceful   \n",
              "3                                 2          Peaceful   \n",
              "4                                 3          Peaceful   \n",
              "\n",
              "          What coping strategy you use as a student?  \\\n",
              "0  Analyze the situation and handle it with intel...   \n",
              "1  Analyze the situation and handle it with intel...   \n",
              "2                   Social support (friends, family)   \n",
              "3  Analyze the situation and handle it with intel...   \n",
              "4  Analyze the situation and handle it with intel...   \n",
              "\n",
              "  Do you have any bad habits like smoking, drinking on a daily basis?  \\\n",
              "0                                                 No                    \n",
              "1                                                 No                    \n",
              "2                                                 No                    \n",
              "3                                                 No                    \n",
              "4                                                 No                    \n",
              "\n",
              "   What would you rate the academic  competition in your student life  \\\n",
              "0                                                  3                    \n",
              "1                                                  3                    \n",
              "2                                                  2                    \n",
              "3                                                  4                    \n",
              "4                                                  4                    \n",
              "\n",
              "   Rate your academic stress index   \n",
              "0                                 5  \n",
              "1                                 3  \n",
              "2                                 4  \n",
              "3                                 3  \n",
              "4                                 5  "
            ],
            "text/html": [
              "\n",
              "  <div id=\"df-8709f7ea-eb17-4c8e-bfa8-8110c584a479\" class=\"colab-df-container\">\n",
              "    <div>\n",
              "<style scoped>\n",
              "    .dataframe tbody tr th:only-of-type {\n",
              "        vertical-align: middle;\n",
              "    }\n",
              "\n",
              "    .dataframe tbody tr th {\n",
              "        vertical-align: top;\n",
              "    }\n",
              "\n",
              "    .dataframe thead th {\n",
              "        text-align: right;\n",
              "    }\n",
              "</style>\n",
              "<table border=\"1\" class=\"dataframe\">\n",
              "  <thead>\n",
              "    <tr style=\"text-align: right;\">\n",
              "      <th></th>\n",
              "      <th>Timestamp</th>\n",
              "      <th>Your Academic Stage</th>\n",
              "      <th>Peer pressure</th>\n",
              "      <th>Academic pressure from your home</th>\n",
              "      <th>Study Environment</th>\n",
              "      <th>What coping strategy you use as a student?</th>\n",
              "      <th>Do you have any bad habits like smoking, drinking on a daily basis?</th>\n",
              "      <th>What would you rate the academic  competition in your student life</th>\n",
              "      <th>Rate your academic stress index</th>\n",
              "    </tr>\n",
              "  </thead>\n",
              "  <tbody>\n",
              "    <tr>\n",
              "      <th>0</th>\n",
              "      <td>24/07/2025 22:05:39</td>\n",
              "      <td>undergraduate</td>\n",
              "      <td>4</td>\n",
              "      <td>5</td>\n",
              "      <td>Noisy</td>\n",
              "      <td>Analyze the situation and handle it with intel...</td>\n",
              "      <td>No</td>\n",
              "      <td>3</td>\n",
              "      <td>5</td>\n",
              "    </tr>\n",
              "    <tr>\n",
              "      <th>1</th>\n",
              "      <td>24/07/2025 22:05:52</td>\n",
              "      <td>undergraduate</td>\n",
              "      <td>3</td>\n",
              "      <td>4</td>\n",
              "      <td>Peaceful</td>\n",
              "      <td>Analyze the situation and handle it with intel...</td>\n",
              "      <td>No</td>\n",
              "      <td>3</td>\n",
              "      <td>3</td>\n",
              "    </tr>\n",
              "    <tr>\n",
              "      <th>2</th>\n",
              "      <td>24/07/2025 22:06:39</td>\n",
              "      <td>undergraduate</td>\n",
              "      <td>1</td>\n",
              "      <td>1</td>\n",
              "      <td>Peaceful</td>\n",
              "      <td>Social support (friends, family)</td>\n",
              "      <td>No</td>\n",
              "      <td>2</td>\n",
              "      <td>4</td>\n",
              "    </tr>\n",
              "    <tr>\n",
              "      <th>3</th>\n",
              "      <td>24/07/2025 22:06:45</td>\n",
              "      <td>undergraduate</td>\n",
              "      <td>3</td>\n",
              "      <td>2</td>\n",
              "      <td>Peaceful</td>\n",
              "      <td>Analyze the situation and handle it with intel...</td>\n",
              "      <td>No</td>\n",
              "      <td>4</td>\n",
              "      <td>3</td>\n",
              "    </tr>\n",
              "    <tr>\n",
              "      <th>4</th>\n",
              "      <td>24/07/2025 22:08:06</td>\n",
              "      <td>undergraduate</td>\n",
              "      <td>3</td>\n",
              "      <td>3</td>\n",
              "      <td>Peaceful</td>\n",
              "      <td>Analyze the situation and handle it with intel...</td>\n",
              "      <td>No</td>\n",
              "      <td>4</td>\n",
              "      <td>5</td>\n",
              "    </tr>\n",
              "  </tbody>\n",
              "</table>\n",
              "</div>\n",
              "    <div class=\"colab-df-buttons\">\n",
              "\n",
              "  <div class=\"colab-df-container\">\n",
              "    <button class=\"colab-df-convert\" onclick=\"convertToInteractive('df-8709f7ea-eb17-4c8e-bfa8-8110c584a479')\"\n",
              "            title=\"Convert this dataframe to an interactive table.\"\n",
              "            style=\"display:none;\">\n",
              "\n",
              "  <svg xmlns=\"http://www.w3.org/2000/svg\" height=\"24px\" viewBox=\"0 -960 960 960\">\n",
              "    <path d=\"M120-120v-720h720v720H120Zm60-500h600v-160H180v160Zm220 220h160v-160H400v160Zm0 220h160v-160H400v160ZM180-400h160v-160H180v160Zm440 0h160v-160H620v160ZM180-180h160v-160H180v160Zm440 0h160v-160H620v160Z\"/>\n",
              "  </svg>\n",
              "    </button>\n",
              "\n",
              "  <style>\n",
              "    .colab-df-container {\n",
              "      display:flex;\n",
              "      gap: 12px;\n",
              "    }\n",
              "\n",
              "    .colab-df-convert {\n",
              "      background-color: #E8F0FE;\n",
              "      border: none;\n",
              "      border-radius: 50%;\n",
              "      cursor: pointer;\n",
              "      display: none;\n",
              "      fill: #1967D2;\n",
              "      height: 32px;\n",
              "      padding: 0 0 0 0;\n",
              "      width: 32px;\n",
              "    }\n",
              "\n",
              "    .colab-df-convert:hover {\n",
              "      background-color: #E2EBFA;\n",
              "      box-shadow: 0px 1px 2px rgba(60, 64, 67, 0.3), 0px 1px 3px 1px rgba(60, 64, 67, 0.15);\n",
              "      fill: #174EA6;\n",
              "    }\n",
              "\n",
              "    .colab-df-buttons div {\n",
              "      margin-bottom: 4px;\n",
              "    }\n",
              "\n",
              "    [theme=dark] .colab-df-convert {\n",
              "      background-color: #3B4455;\n",
              "      fill: #D2E3FC;\n",
              "    }\n",
              "\n",
              "    [theme=dark] .colab-df-convert:hover {\n",
              "      background-color: #434B5C;\n",
              "      box-shadow: 0px 1px 3px 1px rgba(0, 0, 0, 0.15);\n",
              "      filter: drop-shadow(0px 1px 2px rgba(0, 0, 0, 0.3));\n",
              "      fill: #FFFFFF;\n",
              "    }\n",
              "  </style>\n",
              "\n",
              "    <script>\n",
              "      const buttonEl =\n",
              "        document.querySelector('#df-8709f7ea-eb17-4c8e-bfa8-8110c584a479 button.colab-df-convert');\n",
              "      buttonEl.style.display =\n",
              "        google.colab.kernel.accessAllowed ? 'block' : 'none';\n",
              "\n",
              "      async function convertToInteractive(key) {\n",
              "        const element = document.querySelector('#df-8709f7ea-eb17-4c8e-bfa8-8110c584a479');\n",
              "        const dataTable =\n",
              "          await google.colab.kernel.invokeFunction('convertToInteractive',\n",
              "                                                    [key], {});\n",
              "        if (!dataTable) return;\n",
              "\n",
              "        const docLinkHtml = 'Like what you see? Visit the ' +\n",
              "          '<a target=\"_blank\" href=https://colab.research.google.com/notebooks/data_table.ipynb>data table notebook</a>'\n",
              "          + ' to learn more about interactive tables.';\n",
              "        element.innerHTML = '';\n",
              "        dataTable['output_type'] = 'display_data';\n",
              "        await google.colab.output.renderOutput(dataTable, element);\n",
              "        const docLink = document.createElement('div');\n",
              "        docLink.innerHTML = docLinkHtml;\n",
              "        element.appendChild(docLink);\n",
              "      }\n",
              "    </script>\n",
              "  </div>\n",
              "\n",
              "\n",
              "    <div id=\"df-eb451f47-f6ec-4afe-922f-2068f78281ee\">\n",
              "      <button class=\"colab-df-quickchart\" onclick=\"quickchart('df-eb451f47-f6ec-4afe-922f-2068f78281ee')\"\n",
              "                title=\"Suggest charts\"\n",
              "                style=\"display:none;\">\n",
              "\n",
              "<svg xmlns=\"http://www.w3.org/2000/svg\" height=\"24px\"viewBox=\"0 0 24 24\"\n",
              "     width=\"24px\">\n",
              "    <g>\n",
              "        <path d=\"M19 3H5c-1.1 0-2 .9-2 2v14c0 1.1.9 2 2 2h14c1.1 0 2-.9 2-2V5c0-1.1-.9-2-2-2zM9 17H7v-7h2v7zm4 0h-2V7h2v10zm4 0h-2v-4h2v4z\"/>\n",
              "    </g>\n",
              "</svg>\n",
              "      </button>\n",
              "\n",
              "<style>\n",
              "  .colab-df-quickchart {\n",
              "      --bg-color: #E8F0FE;\n",
              "      --fill-color: #1967D2;\n",
              "      --hover-bg-color: #E2EBFA;\n",
              "      --hover-fill-color: #174EA6;\n",
              "      --disabled-fill-color: #AAA;\n",
              "      --disabled-bg-color: #DDD;\n",
              "  }\n",
              "\n",
              "  [theme=dark] .colab-df-quickchart {\n",
              "      --bg-color: #3B4455;\n",
              "      --fill-color: #D2E3FC;\n",
              "      --hover-bg-color: #434B5C;\n",
              "      --hover-fill-color: #FFFFFF;\n",
              "      --disabled-bg-color: #3B4455;\n",
              "      --disabled-fill-color: #666;\n",
              "  }\n",
              "\n",
              "  .colab-df-quickchart {\n",
              "    background-color: var(--bg-color);\n",
              "    border: none;\n",
              "    border-radius: 50%;\n",
              "    cursor: pointer;\n",
              "    display: none;\n",
              "    fill: var(--fill-color);\n",
              "    height: 32px;\n",
              "    padding: 0;\n",
              "    width: 32px;\n",
              "  }\n",
              "\n",
              "  .colab-df-quickchart:hover {\n",
              "    background-color: var(--hover-bg-color);\n",
              "    box-shadow: 0 1px 2px rgba(60, 64, 67, 0.3), 0 1px 3px 1px rgba(60, 64, 67, 0.15);\n",
              "    fill: var(--button-hover-fill-color);\n",
              "  }\n",
              "\n",
              "  .colab-df-quickchart-complete:disabled,\n",
              "  .colab-df-quickchart-complete:disabled:hover {\n",
              "    background-color: var(--disabled-bg-color);\n",
              "    fill: var(--disabled-fill-color);\n",
              "    box-shadow: none;\n",
              "  }\n",
              "\n",
              "  .colab-df-spinner {\n",
              "    border: 2px solid var(--fill-color);\n",
              "    border-color: transparent;\n",
              "    border-bottom-color: var(--fill-color);\n",
              "    animation:\n",
              "      spin 1s steps(1) infinite;\n",
              "  }\n",
              "\n",
              "  @keyframes spin {\n",
              "    0% {\n",
              "      border-color: transparent;\n",
              "      border-bottom-color: var(--fill-color);\n",
              "      border-left-color: var(--fill-color);\n",
              "    }\n",
              "    20% {\n",
              "      border-color: transparent;\n",
              "      border-left-color: var(--fill-color);\n",
              "      border-top-color: var(--fill-color);\n",
              "    }\n",
              "    30% {\n",
              "      border-color: transparent;\n",
              "      border-left-color: var(--fill-color);\n",
              "      border-top-color: var(--fill-color);\n",
              "      border-right-color: var(--fill-color);\n",
              "    }\n",
              "    40% {\n",
              "      border-color: transparent;\n",
              "      border-right-color: var(--fill-color);\n",
              "      border-top-color: var(--fill-color);\n",
              "    }\n",
              "    60% {\n",
              "      border-color: transparent;\n",
              "      border-right-color: var(--fill-color);\n",
              "    }\n",
              "    80% {\n",
              "      border-color: transparent;\n",
              "      border-right-color: var(--fill-color);\n",
              "      border-bottom-color: var(--fill-color);\n",
              "    }\n",
              "    90% {\n",
              "      border-color: transparent;\n",
              "      border-bottom-color: var(--fill-color);\n",
              "    }\n",
              "  }\n",
              "</style>\n",
              "\n",
              "      <script>\n",
              "        async function quickchart(key) {\n",
              "          const quickchartButtonEl =\n",
              "            document.querySelector('#' + key + ' button');\n",
              "          quickchartButtonEl.disabled = true;  // To prevent multiple clicks.\n",
              "          quickchartButtonEl.classList.add('colab-df-spinner');\n",
              "          try {\n",
              "            const charts = await google.colab.kernel.invokeFunction(\n",
              "                'suggestCharts', [key], {});\n",
              "          } catch (error) {\n",
              "            console.error('Error during call to suggestCharts:', error);\n",
              "          }\n",
              "          quickchartButtonEl.classList.remove('colab-df-spinner');\n",
              "          quickchartButtonEl.classList.add('colab-df-quickchart-complete');\n",
              "        }\n",
              "        (() => {\n",
              "          let quickchartButtonEl =\n",
              "            document.querySelector('#df-eb451f47-f6ec-4afe-922f-2068f78281ee button');\n",
              "          quickchartButtonEl.style.display =\n",
              "            google.colab.kernel.accessAllowed ? 'block' : 'none';\n",
              "        })();\n",
              "      </script>\n",
              "    </div>\n",
              "\n",
              "    </div>\n",
              "  </div>\n"
            ],
            "application/vnd.google.colaboratory.intrinsic+json": {
              "type": "dataframe",
              "summary": "{\n  \"name\": \"display(df\",\n  \"rows\": 5,\n  \"fields\": [\n    {\n      \"column\": \"Timestamp\",\n      \"properties\": {\n        \"dtype\": \"object\",\n        \"num_unique_values\": 5,\n        \"samples\": [\n          \"24/07/2025 22:05:52\",\n          \"24/07/2025 22:08:06\",\n          \"24/07/2025 22:06:39\"\n        ],\n        \"semantic_type\": \"\",\n        \"description\": \"\"\n      }\n    },\n    {\n      \"column\": \"Your Academic Stage\",\n      \"properties\": {\n        \"dtype\": \"category\",\n        \"num_unique_values\": 1,\n        \"samples\": [\n          \"undergraduate\"\n        ],\n        \"semantic_type\": \"\",\n        \"description\": \"\"\n      }\n    },\n    {\n      \"column\": \"Peer pressure\",\n      \"properties\": {\n        \"dtype\": \"number\",\n        \"std\": 1,\n        \"min\": 1,\n        \"max\": 4,\n        \"num_unique_values\": 3,\n        \"samples\": [\n          4\n        ],\n        \"semantic_type\": \"\",\n        \"description\": \"\"\n      }\n    },\n    {\n      \"column\": \"Academic pressure from your home\",\n      \"properties\": {\n        \"dtype\": \"number\",\n        \"std\": 1,\n        \"min\": 1,\n        \"max\": 5,\n        \"num_unique_values\": 5,\n        \"samples\": [\n          4\n        ],\n        \"semantic_type\": \"\",\n        \"description\": \"\"\n      }\n    },\n    {\n      \"column\": \"Study Environment\",\n      \"properties\": {\n        \"dtype\": \"category\",\n        \"num_unique_values\": 2,\n        \"samples\": [\n          \"Peaceful\"\n        ],\n        \"semantic_type\": \"\",\n        \"description\": \"\"\n      }\n    },\n    {\n      \"column\": \"What coping strategy you use as a student?\",\n      \"properties\": {\n        \"dtype\": \"category\",\n        \"num_unique_values\": 2,\n        \"samples\": [\n          \"Social support (friends, family)\"\n        ],\n        \"semantic_type\": \"\",\n        \"description\": \"\"\n      }\n    },\n    {\n      \"column\": \"Do you have any bad habits like smoking, drinking on a daily basis?\",\n      \"properties\": {\n        \"dtype\": \"category\",\n        \"num_unique_values\": 1,\n        \"samples\": [\n          \"No\"\n        ],\n        \"semantic_type\": \"\",\n        \"description\": \"\"\n      }\n    },\n    {\n      \"column\": \"What would you rate the academic  competition in your student life\",\n      \"properties\": {\n        \"dtype\": \"number\",\n        \"std\": 0,\n        \"min\": 2,\n        \"max\": 4,\n        \"num_unique_values\": 3,\n        \"samples\": [\n          3\n        ],\n        \"semantic_type\": \"\",\n        \"description\": \"\"\n      }\n    },\n    {\n      \"column\": \"Rate your academic stress index \",\n      \"properties\": {\n        \"dtype\": \"number\",\n        \"std\": 1,\n        \"min\": 3,\n        \"max\": 5,\n        \"num_unique_values\": 3,\n        \"samples\": [\n          5\n        ],\n        \"semantic_type\": \"\",\n        \"description\": \"\"\n      }\n    }\n  ]\n}"
            }
          },
          "metadata": {}
        },
        {
          "output_type": "stream",
          "name": "stdout",
          "text": [
            "<class 'pandas.core.frame.DataFrame'>\n",
            "RangeIndex: 140 entries, 0 to 139\n",
            "Data columns (total 9 columns):\n",
            " #   Column                                                               Non-Null Count  Dtype \n",
            "---  ------                                                               --------------  ----- \n",
            " 0   Timestamp                                                            140 non-null    object\n",
            " 1   Your Academic Stage                                                  140 non-null    object\n",
            " 2   Peer pressure                                                        140 non-null    int64 \n",
            " 3   Academic pressure from your home                                     140 non-null    int64 \n",
            " 4   Study Environment                                                    139 non-null    object\n",
            " 5   What coping strategy you use as a student?                           140 non-null    object\n",
            " 6   Do you have any bad habits like smoking, drinking on a daily basis?  140 non-null    object\n",
            " 7   What would you rate the academic  competition in your student life   140 non-null    int64 \n",
            " 8   Rate your academic stress index                                      140 non-null    int64 \n",
            "dtypes: int64(4), object(5)\n",
            "memory usage: 10.0+ KB\n"
          ]
        },
        {
          "output_type": "display_data",
          "data": {
            "text/plain": [
              "None"
            ]
          },
          "metadata": {}
        }
      ]
    },
    {
      "cell_type": "markdown",
      "source": [
        "Based on the output of the df.info() in the cell a4804352, we can infer that the missing value in the 'Study Environment' column has been successfully filled. Before this step, df.info() showed 139 non-null entries for this column (as seen in cell 0f35df7f), and now it shows 140 non-null entries. This confirms that the fillna('Unknown', inplace=True) operation was successful in addressing the missing data in that specific column.\n",
        "\n"
      ],
      "metadata": {
        "id": "NVT2VJkL5VS7"
      }
    },
    {
      "cell_type": "markdown",
      "metadata": {
        "id": "f2d9f5e0"
      },
      "source": [
        "## Generate treemap visualization\n",
        "\n",
        "### Subtask:\n",
        "Create a treemap visualization to represent hierarchical data in the dataset.\n"
      ]
    },
    {
      "cell_type": "markdown",
      "metadata": {
        "id": "2f514c23"
      },
      "source": [
        "**Reasoning**:\n",
        "Import the necessary library and create the treemap visualization using the specified columns.\n",
        "\n"
      ]
    },
    {
      "cell_type": "code",
      "metadata": {
        "colab": {
          "base_uri": "https://localhost:8080/",
          "height": 683
        },
        "id": "07a86309",
        "outputId": "3f538e6c-0106-40fd-c7cd-e5dd2df0a04d"
      },
      "source": [
        "import plotly.express as px\n",
        "\n",
        "# Fill missing values in 'Study Environment' before creating the treemap\n",
        "df['Study Environment'].fillna('Unknown', inplace=True)\n",
        "\n",
        "fig = px.treemap(df, path=['Your Academic Stage', 'Study Environment', 'What coping strategy you use as a student?'], values='Rate your academic stress index ',\n",
        "                 title='Treemap of Academic Stress Index by Stage, Environment, and Coping Strategy')\n",
        "fig.update_layout(margin = dict(t=50, l=25, r=25, b=25))\n",
        "fig.show()"
      ],
      "execution_count": null,
      "outputs": [
        {
          "output_type": "stream",
          "name": "stderr",
          "text": [
            "/tmp/ipython-input-2222537282.py:4: FutureWarning: A value is trying to be set on a copy of a DataFrame or Series through chained assignment using an inplace method.\n",
            "The behavior will change in pandas 3.0. This inplace method will never work because the intermediate object on which we are setting values always behaves as a copy.\n",
            "\n",
            "For example, when doing 'df[col].method(value, inplace=True)', try using 'df.method({col: value}, inplace=True)' or df[col] = df[col].method(value) instead, to perform the operation inplace on the original object.\n",
            "\n",
            "\n",
            "  df['Study Environment'].fillna('Unknown', inplace=True)\n"
          ]
        },
        {
          "output_type": "display_data",
          "data": {
            "text/html": [
              "<html>\n",
              "<head><meta charset=\"utf-8\" /></head>\n",
              "<body>\n",
              "    <div>            <script src=\"https://cdnjs.cloudflare.com/ajax/libs/mathjax/2.7.5/MathJax.js?config=TeX-AMS-MML_SVG\"></script><script type=\"text/javascript\">if (window.MathJax && window.MathJax.Hub && window.MathJax.Hub.Config) {window.MathJax.Hub.Config({SVG: {font: \"STIX-Web\"}});}</script>                <script type=\"text/javascript\">window.PlotlyConfig = {MathJaxConfig: 'local'};</script>\n",
              "        <script charset=\"utf-8\" src=\"https://cdn.plot.ly/plotly-2.35.2.min.js\"></script>                <div id=\"27782f4f-20fe-4e7d-8b6f-3fa699643c1f\" class=\"plotly-graph-div\" style=\"height:525px; width:100%;\"></div>            <script type=\"text/javascript\">                                    window.PLOTLYENV=window.PLOTLYENV || {};                                    if (document.getElementById(\"27782f4f-20fe-4e7d-8b6f-3fa699643c1f\")) {                    Plotly.newPlot(                        \"27782f4f-20fe-4e7d-8b6f-3fa699643c1f\",                        [{\"branchvalues\":\"total\",\"domain\":{\"x\":[0.0,1.0],\"y\":[0.0,1.0]},\"hovertemplate\":\"labels=%{label}\\u003cbr\\u003eRate your academic stress index =%{value}\\u003cbr\\u003eparent=%{parent}\\u003cbr\\u003eid=%{id}\\u003cextra\\u003e\\u003c\\u002fextra\\u003e\",\"ids\":[\"high school\\u002fNoisy\\u002fAnalyze the situation and handle it with intellect\",\"post-graduate\\u002fNoisy\\u002fAnalyze the situation and handle it with intellect\",\"undergraduate\\u002fNoisy\\u002fAnalyze the situation and handle it with intellect\",\"high school\\u002fPeaceful\\u002fAnalyze the situation and handle it with intellect\",\"post-graduate\\u002fPeaceful\\u002fAnalyze the situation and handle it with intellect\",\"undergraduate\\u002fPeaceful\\u002fAnalyze the situation and handle it with intellect\",\"high school\\u002fdisrupted\\u002fAnalyze the situation and handle it with intellect\",\"post-graduate\\u002fdisrupted\\u002fAnalyze the situation and handle it with intellect\",\"undergraduate\\u002fdisrupted\\u002fAnalyze the situation and handle it with intellect\",\"high school\\u002fNoisy\\u002fEmotional breakdown (crying a lot)\",\"undergraduate\\u002fNoisy\\u002fEmotional breakdown (crying a lot)\",\"high school\\u002fPeaceful\\u002fEmotional breakdown (crying a lot)\",\"undergraduate\\u002fPeaceful\\u002fEmotional breakdown (crying a lot)\",\"undergraduate\\u002fUnknown\\u002fEmotional breakdown (crying a lot)\",\"high school\\u002fdisrupted\\u002fEmotional breakdown (crying a lot)\",\"post-graduate\\u002fdisrupted\\u002fEmotional breakdown (crying a lot)\",\"undergraduate\\u002fdisrupted\\u002fEmotional breakdown (crying a lot)\",\"high school\\u002fNoisy\\u002fSocial support (friends, family)\",\"undergraduate\\u002fNoisy\\u002fSocial support (friends, family)\",\"high school\\u002fPeaceful\\u002fSocial support (friends, family)\",\"post-graduate\\u002fPeaceful\\u002fSocial support (friends, family)\",\"undergraduate\\u002fPeaceful\\u002fSocial support (friends, family)\",\"post-graduate\\u002fdisrupted\\u002fSocial support (friends, family)\",\"undergraduate\\u002fdisrupted\\u002fSocial support (friends, family)\",\"high school\\u002fNoisy\",\"post-graduate\\u002fNoisy\",\"undergraduate\\u002fNoisy\",\"high school\\u002fPeaceful\",\"post-graduate\\u002fPeaceful\",\"undergraduate\\u002fPeaceful\",\"undergraduate\\u002fUnknown\",\"high school\\u002fdisrupted\",\"post-graduate\\u002fdisrupted\",\"undergraduate\\u002fdisrupted\",\"high school\",\"post-graduate\",\"undergraduate\"],\"labels\":[\"Analyze the situation and handle it with intellect\",\"Analyze the situation and handle it with intellect\",\"Analyze the situation and handle it with intellect\",\"Analyze the situation and handle it with intellect\",\"Analyze the situation and handle it with intellect\",\"Analyze the situation and handle it with intellect\",\"Analyze the situation and handle it with intellect\",\"Analyze the situation and handle it with intellect\",\"Analyze the situation and handle it with intellect\",\"Emotional breakdown (crying a lot)\",\"Emotional breakdown (crying a lot)\",\"Emotional breakdown (crying a lot)\",\"Emotional breakdown (crying a lot)\",\"Emotional breakdown (crying a lot)\",\"Emotional breakdown (crying a lot)\",\"Emotional breakdown (crying a lot)\",\"Emotional breakdown (crying a lot)\",\"Social support (friends, family)\",\"Social support (friends, family)\",\"Social support (friends, family)\",\"Social support (friends, family)\",\"Social support (friends, family)\",\"Social support (friends, family)\",\"Social support (friends, family)\",\"Noisy\",\"Noisy\",\"Noisy\",\"Peaceful\",\"Peaceful\",\"Peaceful\",\"Unknown\",\"disrupted\",\"disrupted\",\"disrupted\",\"high school\",\"post-graduate\",\"undergraduate\"],\"name\":\"\",\"parents\":[\"high school\\u002fNoisy\",\"post-graduate\\u002fNoisy\",\"undergraduate\\u002fNoisy\",\"high school\\u002fPeaceful\",\"post-graduate\\u002fPeaceful\",\"undergraduate\\u002fPeaceful\",\"high school\\u002fdisrupted\",\"post-graduate\\u002fdisrupted\",\"undergraduate\\u002fdisrupted\",\"high school\\u002fNoisy\",\"undergraduate\\u002fNoisy\",\"high school\\u002fPeaceful\",\"undergraduate\\u002fPeaceful\",\"undergraduate\\u002fUnknown\",\"high school\\u002fdisrupted\",\"post-graduate\\u002fdisrupted\",\"undergraduate\\u002fdisrupted\",\"high school\\u002fNoisy\",\"undergraduate\\u002fNoisy\",\"high school\\u002fPeaceful\",\"post-graduate\\u002fPeaceful\",\"undergraduate\\u002fPeaceful\",\"post-graduate\\u002fdisrupted\",\"undergraduate\\u002fdisrupted\",\"high school\",\"post-graduate\",\"undergraduate\",\"high school\",\"post-graduate\",\"undergraduate\",\"undergraduate\",\"high school\",\"post-graduate\",\"undergraduate\",\"\",\"\",\"\"],\"values\":[18,7,48,37,13,127,4,4,59,26,17,9,15,4,10,4,42,4,3,3,8,29,5,25,48,7,68,49,21,171,4,14,13,126,111,41,369],\"type\":\"treemap\"}],                        {\"template\":{\"data\":{\"histogram2dcontour\":[{\"type\":\"histogram2dcontour\",\"colorbar\":{\"outlinewidth\":0,\"ticks\":\"\"},\"colorscale\":[[0.0,\"#0d0887\"],[0.1111111111111111,\"#46039f\"],[0.2222222222222222,\"#7201a8\"],[0.3333333333333333,\"#9c179e\"],[0.4444444444444444,\"#bd3786\"],[0.5555555555555556,\"#d8576b\"],[0.6666666666666666,\"#ed7953\"],[0.7777777777777778,\"#fb9f3a\"],[0.8888888888888888,\"#fdca26\"],[1.0,\"#f0f921\"]]}],\"choropleth\":[{\"type\":\"choropleth\",\"colorbar\":{\"outlinewidth\":0,\"ticks\":\"\"}}],\"histogram2d\":[{\"type\":\"histogram2d\",\"colorbar\":{\"outlinewidth\":0,\"ticks\":\"\"},\"colorscale\":[[0.0,\"#0d0887\"],[0.1111111111111111,\"#46039f\"],[0.2222222222222222,\"#7201a8\"],[0.3333333333333333,\"#9c179e\"],[0.4444444444444444,\"#bd3786\"],[0.5555555555555556,\"#d8576b\"],[0.6666666666666666,\"#ed7953\"],[0.7777777777777778,\"#fb9f3a\"],[0.8888888888888888,\"#fdca26\"],[1.0,\"#f0f921\"]]}],\"heatmap\":[{\"type\":\"heatmap\",\"colorbar\":{\"outlinewidth\":0,\"ticks\":\"\"},\"colorscale\":[[0.0,\"#0d0887\"],[0.1111111111111111,\"#46039f\"],[0.2222222222222222,\"#7201a8\"],[0.3333333333333333,\"#9c179e\"],[0.4444444444444444,\"#bd3786\"],[0.5555555555555556,\"#d8576b\"],[0.6666666666666666,\"#ed7953\"],[0.7777777777777778,\"#fb9f3a\"],[0.8888888888888888,\"#fdca26\"],[1.0,\"#f0f921\"]]}],\"heatmapgl\":[{\"type\":\"heatmapgl\",\"colorbar\":{\"outlinewidth\":0,\"ticks\":\"\"},\"colorscale\":[[0.0,\"#0d0887\"],[0.1111111111111111,\"#46039f\"],[0.2222222222222222,\"#7201a8\"],[0.3333333333333333,\"#9c179e\"],[0.4444444444444444,\"#bd3786\"],[0.5555555555555556,\"#d8576b\"],[0.6666666666666666,\"#ed7953\"],[0.7777777777777778,\"#fb9f3a\"],[0.8888888888888888,\"#fdca26\"],[1.0,\"#f0f921\"]]}],\"contourcarpet\":[{\"type\":\"contourcarpet\",\"colorbar\":{\"outlinewidth\":0,\"ticks\":\"\"}}],\"contour\":[{\"type\":\"contour\",\"colorbar\":{\"outlinewidth\":0,\"ticks\":\"\"},\"colorscale\":[[0.0,\"#0d0887\"],[0.1111111111111111,\"#46039f\"],[0.2222222222222222,\"#7201a8\"],[0.3333333333333333,\"#9c179e\"],[0.4444444444444444,\"#bd3786\"],[0.5555555555555556,\"#d8576b\"],[0.6666666666666666,\"#ed7953\"],[0.7777777777777778,\"#fb9f3a\"],[0.8888888888888888,\"#fdca26\"],[1.0,\"#f0f921\"]]}],\"surface\":[{\"type\":\"surface\",\"colorbar\":{\"outlinewidth\":0,\"ticks\":\"\"},\"colorscale\":[[0.0,\"#0d0887\"],[0.1111111111111111,\"#46039f\"],[0.2222222222222222,\"#7201a8\"],[0.3333333333333333,\"#9c179e\"],[0.4444444444444444,\"#bd3786\"],[0.5555555555555556,\"#d8576b\"],[0.6666666666666666,\"#ed7953\"],[0.7777777777777778,\"#fb9f3a\"],[0.8888888888888888,\"#fdca26\"],[1.0,\"#f0f921\"]]}],\"mesh3d\":[{\"type\":\"mesh3d\",\"colorbar\":{\"outlinewidth\":0,\"ticks\":\"\"}}],\"scatter\":[{\"fillpattern\":{\"fillmode\":\"overlay\",\"size\":10,\"solidity\":0.2},\"type\":\"scatter\"}],\"parcoords\":[{\"type\":\"parcoords\",\"line\":{\"colorbar\":{\"outlinewidth\":0,\"ticks\":\"\"}}}],\"scatterpolargl\":[{\"type\":\"scatterpolargl\",\"marker\":{\"colorbar\":{\"outlinewidth\":0,\"ticks\":\"\"}}}],\"bar\":[{\"error_x\":{\"color\":\"#2a3f5f\"},\"error_y\":{\"color\":\"#2a3f5f\"},\"marker\":{\"line\":{\"color\":\"#E5ECF6\",\"width\":0.5},\"pattern\":{\"fillmode\":\"overlay\",\"size\":10,\"solidity\":0.2}},\"type\":\"bar\"}],\"scattergeo\":[{\"type\":\"scattergeo\",\"marker\":{\"colorbar\":{\"outlinewidth\":0,\"ticks\":\"\"}}}],\"scatterpolar\":[{\"type\":\"scatterpolar\",\"marker\":{\"colorbar\":{\"outlinewidth\":0,\"ticks\":\"\"}}}],\"histogram\":[{\"marker\":{\"pattern\":{\"fillmode\":\"overlay\",\"size\":10,\"solidity\":0.2}},\"type\":\"histogram\"}],\"scattergl\":[{\"type\":\"scattergl\",\"marker\":{\"colorbar\":{\"outlinewidth\":0,\"ticks\":\"\"}}}],\"scatter3d\":[{\"type\":\"scatter3d\",\"line\":{\"colorbar\":{\"outlinewidth\":0,\"ticks\":\"\"}},\"marker\":{\"colorbar\":{\"outlinewidth\":0,\"ticks\":\"\"}}}],\"scattermapbox\":[{\"type\":\"scattermapbox\",\"marker\":{\"colorbar\":{\"outlinewidth\":0,\"ticks\":\"\"}}}],\"scatterternary\":[{\"type\":\"scatterternary\",\"marker\":{\"colorbar\":{\"outlinewidth\":0,\"ticks\":\"\"}}}],\"scattercarpet\":[{\"type\":\"scattercarpet\",\"marker\":{\"colorbar\":{\"outlinewidth\":0,\"ticks\":\"\"}}}],\"carpet\":[{\"aaxis\":{\"endlinecolor\":\"#2a3f5f\",\"gridcolor\":\"white\",\"linecolor\":\"white\",\"minorgridcolor\":\"white\",\"startlinecolor\":\"#2a3f5f\"},\"baxis\":{\"endlinecolor\":\"#2a3f5f\",\"gridcolor\":\"white\",\"linecolor\":\"white\",\"minorgridcolor\":\"white\",\"startlinecolor\":\"#2a3f5f\"},\"type\":\"carpet\"}],\"table\":[{\"cells\":{\"fill\":{\"color\":\"#EBF0F8\"},\"line\":{\"color\":\"white\"}},\"header\":{\"fill\":{\"color\":\"#C8D4E3\"},\"line\":{\"color\":\"white\"}},\"type\":\"table\"}],\"barpolar\":[{\"marker\":{\"line\":{\"color\":\"#E5ECF6\",\"width\":0.5},\"pattern\":{\"fillmode\":\"overlay\",\"size\":10,\"solidity\":0.2}},\"type\":\"barpolar\"}],\"pie\":[{\"automargin\":true,\"type\":\"pie\"}]},\"layout\":{\"autotypenumbers\":\"strict\",\"colorway\":[\"#636efa\",\"#EF553B\",\"#00cc96\",\"#ab63fa\",\"#FFA15A\",\"#19d3f3\",\"#FF6692\",\"#B6E880\",\"#FF97FF\",\"#FECB52\"],\"font\":{\"color\":\"#2a3f5f\"},\"hovermode\":\"closest\",\"hoverlabel\":{\"align\":\"left\"},\"paper_bgcolor\":\"white\",\"plot_bgcolor\":\"#E5ECF6\",\"polar\":{\"bgcolor\":\"#E5ECF6\",\"angularaxis\":{\"gridcolor\":\"white\",\"linecolor\":\"white\",\"ticks\":\"\"},\"radialaxis\":{\"gridcolor\":\"white\",\"linecolor\":\"white\",\"ticks\":\"\"}},\"ternary\":{\"bgcolor\":\"#E5ECF6\",\"aaxis\":{\"gridcolor\":\"white\",\"linecolor\":\"white\",\"ticks\":\"\"},\"baxis\":{\"gridcolor\":\"white\",\"linecolor\":\"white\",\"ticks\":\"\"},\"caxis\":{\"gridcolor\":\"white\",\"linecolor\":\"white\",\"ticks\":\"\"}},\"coloraxis\":{\"colorbar\":{\"outlinewidth\":0,\"ticks\":\"\"}},\"colorscale\":{\"sequential\":[[0.0,\"#0d0887\"],[0.1111111111111111,\"#46039f\"],[0.2222222222222222,\"#7201a8\"],[0.3333333333333333,\"#9c179e\"],[0.4444444444444444,\"#bd3786\"],[0.5555555555555556,\"#d8576b\"],[0.6666666666666666,\"#ed7953\"],[0.7777777777777778,\"#fb9f3a\"],[0.8888888888888888,\"#fdca26\"],[1.0,\"#f0f921\"]],\"sequentialminus\":[[0.0,\"#0d0887\"],[0.1111111111111111,\"#46039f\"],[0.2222222222222222,\"#7201a8\"],[0.3333333333333333,\"#9c179e\"],[0.4444444444444444,\"#bd3786\"],[0.5555555555555556,\"#d8576b\"],[0.6666666666666666,\"#ed7953\"],[0.7777777777777778,\"#fb9f3a\"],[0.8888888888888888,\"#fdca26\"],[1.0,\"#f0f921\"]],\"diverging\":[[0,\"#8e0152\"],[0.1,\"#c51b7d\"],[0.2,\"#de77ae\"],[0.3,\"#f1b6da\"],[0.4,\"#fde0ef\"],[0.5,\"#f7f7f7\"],[0.6,\"#e6f5d0\"],[0.7,\"#b8e186\"],[0.8,\"#7fbc41\"],[0.9,\"#4d9221\"],[1,\"#276419\"]]},\"xaxis\":{\"gridcolor\":\"white\",\"linecolor\":\"white\",\"ticks\":\"\",\"title\":{\"standoff\":15},\"zerolinecolor\":\"white\",\"automargin\":true,\"zerolinewidth\":2},\"yaxis\":{\"gridcolor\":\"white\",\"linecolor\":\"white\",\"ticks\":\"\",\"title\":{\"standoff\":15},\"zerolinecolor\":\"white\",\"automargin\":true,\"zerolinewidth\":2},\"scene\":{\"xaxis\":{\"backgroundcolor\":\"#E5ECF6\",\"gridcolor\":\"white\",\"linecolor\":\"white\",\"showbackground\":true,\"ticks\":\"\",\"zerolinecolor\":\"white\",\"gridwidth\":2},\"yaxis\":{\"backgroundcolor\":\"#E5ECF6\",\"gridcolor\":\"white\",\"linecolor\":\"white\",\"showbackground\":true,\"ticks\":\"\",\"zerolinecolor\":\"white\",\"gridwidth\":2},\"zaxis\":{\"backgroundcolor\":\"#E5ECF6\",\"gridcolor\":\"white\",\"linecolor\":\"white\",\"showbackground\":true,\"ticks\":\"\",\"zerolinecolor\":\"white\",\"gridwidth\":2}},\"shapedefaults\":{\"line\":{\"color\":\"#2a3f5f\"}},\"annotationdefaults\":{\"arrowcolor\":\"#2a3f5f\",\"arrowhead\":0,\"arrowwidth\":1},\"geo\":{\"bgcolor\":\"white\",\"landcolor\":\"#E5ECF6\",\"subunitcolor\":\"white\",\"showland\":true,\"showlakes\":true,\"lakecolor\":\"white\"},\"title\":{\"x\":0.05},\"mapbox\":{\"style\":\"light\"}}},\"legend\":{\"tracegroupgap\":0},\"title\":{\"text\":\"Treemap of Academic Stress Index by Stage, Environment, and Coping Strategy\"},\"margin\":{\"t\":50,\"l\":25,\"r\":25,\"b\":25}},                        {\"responsive\": true}                    ).then(function(){\n",
              "                            \n",
              "var gd = document.getElementById('27782f4f-20fe-4e7d-8b6f-3fa699643c1f');\n",
              "var x = new MutationObserver(function (mutations, observer) {{\n",
              "        var display = window.getComputedStyle(gd).display;\n",
              "        if (!display || display === 'none') {{\n",
              "            console.log([gd, 'removed!']);\n",
              "            Plotly.purge(gd);\n",
              "            observer.disconnect();\n",
              "        }}\n",
              "}});\n",
              "\n",
              "// Listen for the removal of the full notebook cells\n",
              "var notebookContainer = gd.closest('#notebook-container');\n",
              "if (notebookContainer) {{\n",
              "    x.observe(notebookContainer, {childList: true});\n",
              "}}\n",
              "\n",
              "// Listen for the clearing of the current output cell\n",
              "var outputEl = gd.closest('.output');\n",
              "if (outputEl) {{\n",
              "    x.observe(outputEl, {childList: true});\n",
              "}}\n",
              "\n",
              "                        })                };                            </script>        </div>\n",
              "</body>\n",
              "</html>"
            ]
          },
          "metadata": {}
        }
      ]
    },
    {
      "cell_type": "markdown",
      "source": [],
      "metadata": {
        "id": "ZRB9iNut5ayr"
      }
    },
    {
      "cell_type": "markdown",
      "metadata": {
        "id": "d174cc69"
      },
      "source": [
        "## Generate sunburst visualization\n",
        "\n",
        "### Subtask:\n",
        "Create a sunburst visualization to show hierarchical data in a radial layout."
      ]
    },
    {
      "cell_type": "markdown",
      "metadata": {
        "id": "95332603"
      },
      "source": [
        "**Reasoning**:\n",
        "Generate a sunburst chart using plotly.express with the specified hierarchical path and values."
      ]
    },
    {
      "cell_type": "code",
      "metadata": {
        "colab": {
          "base_uri": "https://localhost:8080/",
          "height": 542
        },
        "id": "4172bf10",
        "outputId": "7fab84db-6bd3-4f2e-dc37-078dadfe66af"
      },
      "source": [
        "import plotly.express as px\n",
        "\n",
        "fig = px.sunburst(df, path=['Your Academic Stage', 'Study Environment', 'What coping strategy you use as a student?'], values='Rate your academic stress index ',\n",
        "                  title='Sunburst Chart of Academic Stress Index by Stage, Environment, and Coping Strategy')\n",
        "fig.show()"
      ],
      "execution_count": null,
      "outputs": [
        {
          "output_type": "display_data",
          "data": {
            "text/html": [
              "<html>\n",
              "<head><meta charset=\"utf-8\" /></head>\n",
              "<body>\n",
              "    <div>            <script src=\"https://cdnjs.cloudflare.com/ajax/libs/mathjax/2.7.5/MathJax.js?config=TeX-AMS-MML_SVG\"></script><script type=\"text/javascript\">if (window.MathJax && window.MathJax.Hub && window.MathJax.Hub.Config) {window.MathJax.Hub.Config({SVG: {font: \"STIX-Web\"}});}</script>                <script type=\"text/javascript\">window.PlotlyConfig = {MathJaxConfig: 'local'};</script>\n",
              "        <script charset=\"utf-8\" src=\"https://cdn.plot.ly/plotly-2.35.2.min.js\"></script>                <div id=\"a6155f51-cc68-4a4e-a813-5808e5fbfab1\" class=\"plotly-graph-div\" style=\"height:525px; width:100%;\"></div>            <script type=\"text/javascript\">                                    window.PLOTLYENV=window.PLOTLYENV || {};                                    if (document.getElementById(\"a6155f51-cc68-4a4e-a813-5808e5fbfab1\")) {                    Plotly.newPlot(                        \"a6155f51-cc68-4a4e-a813-5808e5fbfab1\",                        [{\"branchvalues\":\"total\",\"domain\":{\"x\":[0.0,1.0],\"y\":[0.0,1.0]},\"hovertemplate\":\"labels=%{label}\\u003cbr\\u003eRate your academic stress index =%{value}\\u003cbr\\u003eparent=%{parent}\\u003cbr\\u003eid=%{id}\\u003cextra\\u003e\\u003c\\u002fextra\\u003e\",\"ids\":[\"high school\\u002fNoisy\\u002fAnalyze the situation and handle it with intellect\",\"post-graduate\\u002fNoisy\\u002fAnalyze the situation and handle it with intellect\",\"undergraduate\\u002fNoisy\\u002fAnalyze the situation and handle it with intellect\",\"high school\\u002fPeaceful\\u002fAnalyze the situation and handle it with intellect\",\"post-graduate\\u002fPeaceful\\u002fAnalyze the situation and handle it with intellect\",\"undergraduate\\u002fPeaceful\\u002fAnalyze the situation and handle it with intellect\",\"high school\\u002fdisrupted\\u002fAnalyze the situation and handle it with intellect\",\"post-graduate\\u002fdisrupted\\u002fAnalyze the situation and handle it with intellect\",\"undergraduate\\u002fdisrupted\\u002fAnalyze the situation and handle it with intellect\",\"high school\\u002fNoisy\\u002fEmotional breakdown (crying a lot)\",\"undergraduate\\u002fNoisy\\u002fEmotional breakdown (crying a lot)\",\"high school\\u002fPeaceful\\u002fEmotional breakdown (crying a lot)\",\"undergraduate\\u002fPeaceful\\u002fEmotional breakdown (crying a lot)\",\"undergraduate\\u002fUnknown\\u002fEmotional breakdown (crying a lot)\",\"high school\\u002fdisrupted\\u002fEmotional breakdown (crying a lot)\",\"post-graduate\\u002fdisrupted\\u002fEmotional breakdown (crying a lot)\",\"undergraduate\\u002fdisrupted\\u002fEmotional breakdown (crying a lot)\",\"high school\\u002fNoisy\\u002fSocial support (friends, family)\",\"undergraduate\\u002fNoisy\\u002fSocial support (friends, family)\",\"high school\\u002fPeaceful\\u002fSocial support (friends, family)\",\"post-graduate\\u002fPeaceful\\u002fSocial support (friends, family)\",\"undergraduate\\u002fPeaceful\\u002fSocial support (friends, family)\",\"post-graduate\\u002fdisrupted\\u002fSocial support (friends, family)\",\"undergraduate\\u002fdisrupted\\u002fSocial support (friends, family)\",\"high school\\u002fNoisy\",\"post-graduate\\u002fNoisy\",\"undergraduate\\u002fNoisy\",\"high school\\u002fPeaceful\",\"post-graduate\\u002fPeaceful\",\"undergraduate\\u002fPeaceful\",\"undergraduate\\u002fUnknown\",\"high school\\u002fdisrupted\",\"post-graduate\\u002fdisrupted\",\"undergraduate\\u002fdisrupted\",\"high school\",\"post-graduate\",\"undergraduate\"],\"labels\":[\"Analyze the situation and handle it with intellect\",\"Analyze the situation and handle it with intellect\",\"Analyze the situation and handle it with intellect\",\"Analyze the situation and handle it with intellect\",\"Analyze the situation and handle it with intellect\",\"Analyze the situation and handle it with intellect\",\"Analyze the situation and handle it with intellect\",\"Analyze the situation and handle it with intellect\",\"Analyze the situation and handle it with intellect\",\"Emotional breakdown (crying a lot)\",\"Emotional breakdown (crying a lot)\",\"Emotional breakdown (crying a lot)\",\"Emotional breakdown (crying a lot)\",\"Emotional breakdown (crying a lot)\",\"Emotional breakdown (crying a lot)\",\"Emotional breakdown (crying a lot)\",\"Emotional breakdown (crying a lot)\",\"Social support (friends, family)\",\"Social support (friends, family)\",\"Social support (friends, family)\",\"Social support (friends, family)\",\"Social support (friends, family)\",\"Social support (friends, family)\",\"Social support (friends, family)\",\"Noisy\",\"Noisy\",\"Noisy\",\"Peaceful\",\"Peaceful\",\"Peaceful\",\"Unknown\",\"disrupted\",\"disrupted\",\"disrupted\",\"high school\",\"post-graduate\",\"undergraduate\"],\"name\":\"\",\"parents\":[\"high school\\u002fNoisy\",\"post-graduate\\u002fNoisy\",\"undergraduate\\u002fNoisy\",\"high school\\u002fPeaceful\",\"post-graduate\\u002fPeaceful\",\"undergraduate\\u002fPeaceful\",\"high school\\u002fdisrupted\",\"post-graduate\\u002fdisrupted\",\"undergraduate\\u002fdisrupted\",\"high school\\u002fNoisy\",\"undergraduate\\u002fNoisy\",\"high school\\u002fPeaceful\",\"undergraduate\\u002fPeaceful\",\"undergraduate\\u002fUnknown\",\"high school\\u002fdisrupted\",\"post-graduate\\u002fdisrupted\",\"undergraduate\\u002fdisrupted\",\"high school\\u002fNoisy\",\"undergraduate\\u002fNoisy\",\"high school\\u002fPeaceful\",\"post-graduate\\u002fPeaceful\",\"undergraduate\\u002fPeaceful\",\"post-graduate\\u002fdisrupted\",\"undergraduate\\u002fdisrupted\",\"high school\",\"post-graduate\",\"undergraduate\",\"high school\",\"post-graduate\",\"undergraduate\",\"undergraduate\",\"high school\",\"post-graduate\",\"undergraduate\",\"\",\"\",\"\"],\"values\":[18,7,48,37,13,127,4,4,59,26,17,9,15,4,10,4,42,4,3,3,8,29,5,25,48,7,68,49,21,171,4,14,13,126,111,41,369],\"type\":\"sunburst\"}],                        {\"template\":{\"data\":{\"histogram2dcontour\":[{\"type\":\"histogram2dcontour\",\"colorbar\":{\"outlinewidth\":0,\"ticks\":\"\"},\"colorscale\":[[0.0,\"#0d0887\"],[0.1111111111111111,\"#46039f\"],[0.2222222222222222,\"#7201a8\"],[0.3333333333333333,\"#9c179e\"],[0.4444444444444444,\"#bd3786\"],[0.5555555555555556,\"#d8576b\"],[0.6666666666666666,\"#ed7953\"],[0.7777777777777778,\"#fb9f3a\"],[0.8888888888888888,\"#fdca26\"],[1.0,\"#f0f921\"]]}],\"choropleth\":[{\"type\":\"choropleth\",\"colorbar\":{\"outlinewidth\":0,\"ticks\":\"\"}}],\"histogram2d\":[{\"type\":\"histogram2d\",\"colorbar\":{\"outlinewidth\":0,\"ticks\":\"\"},\"colorscale\":[[0.0,\"#0d0887\"],[0.1111111111111111,\"#46039f\"],[0.2222222222222222,\"#7201a8\"],[0.3333333333333333,\"#9c179e\"],[0.4444444444444444,\"#bd3786\"],[0.5555555555555556,\"#d8576b\"],[0.6666666666666666,\"#ed7953\"],[0.7777777777777778,\"#fb9f3a\"],[0.8888888888888888,\"#fdca26\"],[1.0,\"#f0f921\"]]}],\"heatmap\":[{\"type\":\"heatmap\",\"colorbar\":{\"outlinewidth\":0,\"ticks\":\"\"},\"colorscale\":[[0.0,\"#0d0887\"],[0.1111111111111111,\"#46039f\"],[0.2222222222222222,\"#7201a8\"],[0.3333333333333333,\"#9c179e\"],[0.4444444444444444,\"#bd3786\"],[0.5555555555555556,\"#d8576b\"],[0.6666666666666666,\"#ed7953\"],[0.7777777777777778,\"#fb9f3a\"],[0.8888888888888888,\"#fdca26\"],[1.0,\"#f0f921\"]]}],\"heatmapgl\":[{\"type\":\"heatmapgl\",\"colorbar\":{\"outlinewidth\":0,\"ticks\":\"\"},\"colorscale\":[[0.0,\"#0d0887\"],[0.1111111111111111,\"#46039f\"],[0.2222222222222222,\"#7201a8\"],[0.3333333333333333,\"#9c179e\"],[0.4444444444444444,\"#bd3786\"],[0.5555555555555556,\"#d8576b\"],[0.6666666666666666,\"#ed7953\"],[0.7777777777777778,\"#fb9f3a\"],[0.8888888888888888,\"#fdca26\"],[1.0,\"#f0f921\"]]}],\"contourcarpet\":[{\"type\":\"contourcarpet\",\"colorbar\":{\"outlinewidth\":0,\"ticks\":\"\"}}],\"contour\":[{\"type\":\"contour\",\"colorbar\":{\"outlinewidth\":0,\"ticks\":\"\"},\"colorscale\":[[0.0,\"#0d0887\"],[0.1111111111111111,\"#46039f\"],[0.2222222222222222,\"#7201a8\"],[0.3333333333333333,\"#9c179e\"],[0.4444444444444444,\"#bd3786\"],[0.5555555555555556,\"#d8576b\"],[0.6666666666666666,\"#ed7953\"],[0.7777777777777778,\"#fb9f3a\"],[0.8888888888888888,\"#fdca26\"],[1.0,\"#f0f921\"]]}],\"surface\":[{\"type\":\"surface\",\"colorbar\":{\"outlinewidth\":0,\"ticks\":\"\"},\"colorscale\":[[0.0,\"#0d0887\"],[0.1111111111111111,\"#46039f\"],[0.2222222222222222,\"#7201a8\"],[0.3333333333333333,\"#9c179e\"],[0.4444444444444444,\"#bd3786\"],[0.5555555555555556,\"#d8576b\"],[0.6666666666666666,\"#ed7953\"],[0.7777777777777778,\"#fb9f3a\"],[0.8888888888888888,\"#fdca26\"],[1.0,\"#f0f921\"]]}],\"mesh3d\":[{\"type\":\"mesh3d\",\"colorbar\":{\"outlinewidth\":0,\"ticks\":\"\"}}],\"scatter\":[{\"fillpattern\":{\"fillmode\":\"overlay\",\"size\":10,\"solidity\":0.2},\"type\":\"scatter\"}],\"parcoords\":[{\"type\":\"parcoords\",\"line\":{\"colorbar\":{\"outlinewidth\":0,\"ticks\":\"\"}}}],\"scatterpolargl\":[{\"type\":\"scatterpolargl\",\"marker\":{\"colorbar\":{\"outlinewidth\":0,\"ticks\":\"\"}}}],\"bar\":[{\"error_x\":{\"color\":\"#2a3f5f\"},\"error_y\":{\"color\":\"#2a3f5f\"},\"marker\":{\"line\":{\"color\":\"#E5ECF6\",\"width\":0.5},\"pattern\":{\"fillmode\":\"overlay\",\"size\":10,\"solidity\":0.2}},\"type\":\"bar\"}],\"scattergeo\":[{\"type\":\"scattergeo\",\"marker\":{\"colorbar\":{\"outlinewidth\":0,\"ticks\":\"\"}}}],\"scatterpolar\":[{\"type\":\"scatterpolar\",\"marker\":{\"colorbar\":{\"outlinewidth\":0,\"ticks\":\"\"}}}],\"histogram\":[{\"marker\":{\"pattern\":{\"fillmode\":\"overlay\",\"size\":10,\"solidity\":0.2}},\"type\":\"histogram\"}],\"scattergl\":[{\"type\":\"scattergl\",\"marker\":{\"colorbar\":{\"outlinewidth\":0,\"ticks\":\"\"}}}],\"scatter3d\":[{\"type\":\"scatter3d\",\"line\":{\"colorbar\":{\"outlinewidth\":0,\"ticks\":\"\"}},\"marker\":{\"colorbar\":{\"outlinewidth\":0,\"ticks\":\"\"}}}],\"scattermapbox\":[{\"type\":\"scattermapbox\",\"marker\":{\"colorbar\":{\"outlinewidth\":0,\"ticks\":\"\"}}}],\"scatterternary\":[{\"type\":\"scatterternary\",\"marker\":{\"colorbar\":{\"outlinewidth\":0,\"ticks\":\"\"}}}],\"scattercarpet\":[{\"type\":\"scattercarpet\",\"marker\":{\"colorbar\":{\"outlinewidth\":0,\"ticks\":\"\"}}}],\"carpet\":[{\"aaxis\":{\"endlinecolor\":\"#2a3f5f\",\"gridcolor\":\"white\",\"linecolor\":\"white\",\"minorgridcolor\":\"white\",\"startlinecolor\":\"#2a3f5f\"},\"baxis\":{\"endlinecolor\":\"#2a3f5f\",\"gridcolor\":\"white\",\"linecolor\":\"white\",\"minorgridcolor\":\"white\",\"startlinecolor\":\"#2a3f5f\"},\"type\":\"carpet\"}],\"table\":[{\"cells\":{\"fill\":{\"color\":\"#EBF0F8\"},\"line\":{\"color\":\"white\"}},\"header\":{\"fill\":{\"color\":\"#C8D4E3\"},\"line\":{\"color\":\"white\"}},\"type\":\"table\"}],\"barpolar\":[{\"marker\":{\"line\":{\"color\":\"#E5ECF6\",\"width\":0.5},\"pattern\":{\"fillmode\":\"overlay\",\"size\":10,\"solidity\":0.2}},\"type\":\"barpolar\"}],\"pie\":[{\"automargin\":true,\"type\":\"pie\"}]},\"layout\":{\"autotypenumbers\":\"strict\",\"colorway\":[\"#636efa\",\"#EF553B\",\"#00cc96\",\"#ab63fa\",\"#FFA15A\",\"#19d3f3\",\"#FF6692\",\"#B6E880\",\"#FF97FF\",\"#FECB52\"],\"font\":{\"color\":\"#2a3f5f\"},\"hovermode\":\"closest\",\"hoverlabel\":{\"align\":\"left\"},\"paper_bgcolor\":\"white\",\"plot_bgcolor\":\"#E5ECF6\",\"polar\":{\"bgcolor\":\"#E5ECF6\",\"angularaxis\":{\"gridcolor\":\"white\",\"linecolor\":\"white\",\"ticks\":\"\"},\"radialaxis\":{\"gridcolor\":\"white\",\"linecolor\":\"white\",\"ticks\":\"\"}},\"ternary\":{\"bgcolor\":\"#E5ECF6\",\"aaxis\":{\"gridcolor\":\"white\",\"linecolor\":\"white\",\"ticks\":\"\"},\"baxis\":{\"gridcolor\":\"white\",\"linecolor\":\"white\",\"ticks\":\"\"},\"caxis\":{\"gridcolor\":\"white\",\"linecolor\":\"white\",\"ticks\":\"\"}},\"coloraxis\":{\"colorbar\":{\"outlinewidth\":0,\"ticks\":\"\"}},\"colorscale\":{\"sequential\":[[0.0,\"#0d0887\"],[0.1111111111111111,\"#46039f\"],[0.2222222222222222,\"#7201a8\"],[0.3333333333333333,\"#9c179e\"],[0.4444444444444444,\"#bd3786\"],[0.5555555555555556,\"#d8576b\"],[0.6666666666666666,\"#ed7953\"],[0.7777777777777778,\"#fb9f3a\"],[0.8888888888888888,\"#fdca26\"],[1.0,\"#f0f921\"]],\"sequentialminus\":[[0.0,\"#0d0887\"],[0.1111111111111111,\"#46039f\"],[0.2222222222222222,\"#7201a8\"],[0.3333333333333333,\"#9c179e\"],[0.4444444444444444,\"#bd3786\"],[0.5555555555555556,\"#d8576b\"],[0.6666666666666666,\"#ed7953\"],[0.7777777777777778,\"#fb9f3a\"],[0.8888888888888888,\"#fdca26\"],[1.0,\"#f0f921\"]],\"diverging\":[[0,\"#8e0152\"],[0.1,\"#c51b7d\"],[0.2,\"#de77ae\"],[0.3,\"#f1b6da\"],[0.4,\"#fde0ef\"],[0.5,\"#f7f7f7\"],[0.6,\"#e6f5d0\"],[0.7,\"#b8e186\"],[0.8,\"#7fbc41\"],[0.9,\"#4d9221\"],[1,\"#276419\"]]},\"xaxis\":{\"gridcolor\":\"white\",\"linecolor\":\"white\",\"ticks\":\"\",\"title\":{\"standoff\":15},\"zerolinecolor\":\"white\",\"automargin\":true,\"zerolinewidth\":2},\"yaxis\":{\"gridcolor\":\"white\",\"linecolor\":\"white\",\"ticks\":\"\",\"title\":{\"standoff\":15},\"zerolinecolor\":\"white\",\"automargin\":true,\"zerolinewidth\":2},\"scene\":{\"xaxis\":{\"backgroundcolor\":\"#E5ECF6\",\"gridcolor\":\"white\",\"linecolor\":\"white\",\"showbackground\":true,\"ticks\":\"\",\"zerolinecolor\":\"white\",\"gridwidth\":2},\"yaxis\":{\"backgroundcolor\":\"#E5ECF6\",\"gridcolor\":\"white\",\"linecolor\":\"white\",\"showbackground\":true,\"ticks\":\"\",\"zerolinecolor\":\"white\",\"gridwidth\":2},\"zaxis\":{\"backgroundcolor\":\"#E5ECF6\",\"gridcolor\":\"white\",\"linecolor\":\"white\",\"showbackground\":true,\"ticks\":\"\",\"zerolinecolor\":\"white\",\"gridwidth\":2}},\"shapedefaults\":{\"line\":{\"color\":\"#2a3f5f\"}},\"annotationdefaults\":{\"arrowcolor\":\"#2a3f5f\",\"arrowhead\":0,\"arrowwidth\":1},\"geo\":{\"bgcolor\":\"white\",\"landcolor\":\"#E5ECF6\",\"subunitcolor\":\"white\",\"showland\":true,\"showlakes\":true,\"lakecolor\":\"white\"},\"title\":{\"x\":0.05},\"mapbox\":{\"style\":\"light\"}}},\"legend\":{\"tracegroupgap\":0},\"title\":{\"text\":\"Sunburst Chart of Academic Stress Index by Stage, Environment, and Coping Strategy\"}},                        {\"responsive\": true}                    ).then(function(){\n",
              "                            \n",
              "var gd = document.getElementById('a6155f51-cc68-4a4e-a813-5808e5fbfab1');\n",
              "var x = new MutationObserver(function (mutations, observer) {{\n",
              "        var display = window.getComputedStyle(gd).display;\n",
              "        if (!display || display === 'none') {{\n",
              "            console.log([gd, 'removed!']);\n",
              "            Plotly.purge(gd);\n",
              "            observer.disconnect();\n",
              "        }}\n",
              "}});\n",
              "\n",
              "// Listen for the removal of the full notebook cells\n",
              "var notebookContainer = gd.closest('#notebook-container');\n",
              "if (notebookContainer) {{\n",
              "    x.observe(notebookContainer, {childList: true});\n",
              "}}\n",
              "\n",
              "// Listen for the clearing of the current output cell\n",
              "var outputEl = gd.closest('.output');\n",
              "if (outputEl) {{\n",
              "    x.observe(outputEl, {childList: true});\n",
              "}}\n",
              "\n",
              "                        })                };                            </script>        </div>\n",
              "</body>\n",
              "</html>"
            ]
          },
          "metadata": {}
        }
      ]
    },
    {
      "cell_type": "markdown",
      "metadata": {
        "id": "b2bbf5ce"
      },
      "source": [
        "## Summary:\n",
        "\n",
        "### Data Analysis Key Findings\n",
        "\n",
        "* The dataset was successfully loaded into a pandas DataFrame.\n",
        "* The DataFrame contains columns with `object` and `int64` data types.\n",
        "* Missing values were identified in the 'Study Environment' column and successfully filled with 'Unknown' to enable the treemap and sunburst visualizations.\n",
        "* The treemap visualization was successfully generated showing the hierarchical distribution of academic stress index across academic stage, study environment, and coping strategy.\n",
        "* The sunburst visualization was successfully generated, providing a radial representation of the same hierarchical data.\n",
        "\n",
        "### Insights or Next Steps\n",
        "\n",
        "* The visualizations provide a clear hierarchical view of academic stress index across different academic stages, study environments, and coping strategies. Further analysis could involve calculating and visualizing the average stress index for each combination of these categories to identify specific areas of high or low stress.\n",
        "* Explore other columns in the dataset, such as 'Peer pressure', 'Academic pressure from your home', and 'What would you rate the academic competition in your student life', to understand their correlation with the 'Rate your academic stress index'. This could lead to identifying additional factors influencing academic stress.\n",
        "* Consider performing statistical tests to determine if the differences in stress index across different categories are statistically significant.\n",
        "* Investigate the distribution of academic stress index within each leaf node of the treemap and sunburst charts to understand the variability in stress levels within specific groups."
      ]
    },
    {
      "cell_type": "markdown",
      "source": [
        "Based on the treemap visualization, here are some inferences:\n",
        "\n",
        "The treemap shows a hierarchical breakdown of the 'Rate your academic stress index' by 'Your Academic Stage', 'Study Environment', and 'What coping strategy you use as a student?'.\n",
        "You can see the distribution of the academic stress index across different categories. For example, you can observe which academic stages, study environments, and coping strategies are associated with higher or lower stress index values.\n",
        "The size of each rectangle in the treemap represents the sum of the 'Rate your academic stress index' for that particular category or combination of categories. Larger rectangles indicate a higher aggregate stress index.\n",
        "By hovering over or clicking on the rectangles, you can get more detailed information about the specific categories and their corresponding stress index values.\n",
        "To provide more specific inferences, I would need to analyze the visual output of the treemap and"
      ],
      "metadata": {
        "id": "jHcwhb2Z0tBO"
      }
    },
    {
      "cell_type": "markdown",
      "metadata": {
        "id": "c2fd601c"
      },
      "source": [
        "**Reasoning**:\n",
        "The error indicates that there are null values in the 'Study Environment' column which is part of the hierarchy path for the treemap. To fix this, I will fill the missing values in the 'Study Environment' column with a placeholder value.\n",
        "\n"
      ]
    },
    {
      "cell_type": "code",
      "metadata": {
        "colab": {
          "base_uri": "https://localhost:8080/",
          "height": 542
        },
        "id": "L2pnXBhQt81S",
        "outputId": "fa22badd-e73a-428b-8ccf-2a3f5e598f56"
      },
      "source": [
        "df['Study Environment'].fillna('Unknown', inplace=True)\n",
        "fig = px.treemap(df, path=['Your Academic Stage', 'Study Environment', 'What coping strategy you use as a student?'], values='Rate your academic stress index ')\n",
        "fig.show()"
      ],
      "execution_count": null,
      "outputs": [
        {
          "output_type": "display_data",
          "data": {
            "text/html": [
              "<html>\n",
              "<head><meta charset=\"utf-8\" /></head>\n",
              "<body>\n",
              "    <div>            <script src=\"https://cdnjs.cloudflare.com/ajax/libs/mathjax/2.7.5/MathJax.js?config=TeX-AMS-MML_SVG\"></script><script type=\"text/javascript\">if (window.MathJax && window.MathJax.Hub && window.MathJax.Hub.Config) {window.MathJax.Hub.Config({SVG: {font: \"STIX-Web\"}});}</script>                <script type=\"text/javascript\">window.PlotlyConfig = {MathJaxConfig: 'local'};</script>\n",
              "        <script charset=\"utf-8\" src=\"https://cdn.plot.ly/plotly-2.35.2.min.js\"></script>                <div id=\"db37ca50-61e7-473a-a33e-a06e68d78384\" class=\"plotly-graph-div\" style=\"height:525px; width:100%;\"></div>            <script type=\"text/javascript\">                                    window.PLOTLYENV=window.PLOTLYENV || {};                                    if (document.getElementById(\"db37ca50-61e7-473a-a33e-a06e68d78384\")) {                    Plotly.newPlot(                        \"db37ca50-61e7-473a-a33e-a06e68d78384\",                        [{\"branchvalues\":\"total\",\"domain\":{\"x\":[0.0,1.0],\"y\":[0.0,1.0]},\"hovertemplate\":\"labels=%{label}\\u003cbr\\u003eRate your academic stress index =%{value}\\u003cbr\\u003eparent=%{parent}\\u003cbr\\u003eid=%{id}\\u003cextra\\u003e\\u003c\\u002fextra\\u003e\",\"ids\":[\"high school\\u002fNoisy\\u002fAnalyze the situation and handle it with intellect\",\"post-graduate\\u002fNoisy\\u002fAnalyze the situation and handle it with intellect\",\"undergraduate\\u002fNoisy\\u002fAnalyze the situation and handle it with intellect\",\"high school\\u002fPeaceful\\u002fAnalyze the situation and handle it with intellect\",\"post-graduate\\u002fPeaceful\\u002fAnalyze the situation and handle it with intellect\",\"undergraduate\\u002fPeaceful\\u002fAnalyze the situation and handle it with intellect\",\"high school\\u002fdisrupted\\u002fAnalyze the situation and handle it with intellect\",\"post-graduate\\u002fdisrupted\\u002fAnalyze the situation and handle it with intellect\",\"undergraduate\\u002fdisrupted\\u002fAnalyze the situation and handle it with intellect\",\"high school\\u002fNoisy\\u002fEmotional breakdown (crying a lot)\",\"undergraduate\\u002fNoisy\\u002fEmotional breakdown (crying a lot)\",\"high school\\u002fPeaceful\\u002fEmotional breakdown (crying a lot)\",\"undergraduate\\u002fPeaceful\\u002fEmotional breakdown (crying a lot)\",\"undergraduate\\u002fUnknown\\u002fEmotional breakdown (crying a lot)\",\"high school\\u002fdisrupted\\u002fEmotional breakdown (crying a lot)\",\"post-graduate\\u002fdisrupted\\u002fEmotional breakdown (crying a lot)\",\"undergraduate\\u002fdisrupted\\u002fEmotional breakdown (crying a lot)\",\"high school\\u002fNoisy\\u002fSocial support (friends, family)\",\"undergraduate\\u002fNoisy\\u002fSocial support (friends, family)\",\"high school\\u002fPeaceful\\u002fSocial support (friends, family)\",\"post-graduate\\u002fPeaceful\\u002fSocial support (friends, family)\",\"undergraduate\\u002fPeaceful\\u002fSocial support (friends, family)\",\"post-graduate\\u002fdisrupted\\u002fSocial support (friends, family)\",\"undergraduate\\u002fdisrupted\\u002fSocial support (friends, family)\",\"high school\\u002fNoisy\",\"post-graduate\\u002fNoisy\",\"undergraduate\\u002fNoisy\",\"high school\\u002fPeaceful\",\"post-graduate\\u002fPeaceful\",\"undergraduate\\u002fPeaceful\",\"undergraduate\\u002fUnknown\",\"high school\\u002fdisrupted\",\"post-graduate\\u002fdisrupted\",\"undergraduate\\u002fdisrupted\",\"high school\",\"post-graduate\",\"undergraduate\"],\"labels\":[\"Analyze the situation and handle it with intellect\",\"Analyze the situation and handle it with intellect\",\"Analyze the situation and handle it with intellect\",\"Analyze the situation and handle it with intellect\",\"Analyze the situation and handle it with intellect\",\"Analyze the situation and handle it with intellect\",\"Analyze the situation and handle it with intellect\",\"Analyze the situation and handle it with intellect\",\"Analyze the situation and handle it with intellect\",\"Emotional breakdown (crying a lot)\",\"Emotional breakdown (crying a lot)\",\"Emotional breakdown (crying a lot)\",\"Emotional breakdown (crying a lot)\",\"Emotional breakdown (crying a lot)\",\"Emotional breakdown (crying a lot)\",\"Emotional breakdown (crying a lot)\",\"Emotional breakdown (crying a lot)\",\"Social support (friends, family)\",\"Social support (friends, family)\",\"Social support (friends, family)\",\"Social support (friends, family)\",\"Social support (friends, family)\",\"Social support (friends, family)\",\"Social support (friends, family)\",\"Noisy\",\"Noisy\",\"Noisy\",\"Peaceful\",\"Peaceful\",\"Peaceful\",\"Unknown\",\"disrupted\",\"disrupted\",\"disrupted\",\"high school\",\"post-graduate\",\"undergraduate\"],\"name\":\"\",\"parents\":[\"high school\\u002fNoisy\",\"post-graduate\\u002fNoisy\",\"undergraduate\\u002fNoisy\",\"high school\\u002fPeaceful\",\"post-graduate\\u002fPeaceful\",\"undergraduate\\u002fPeaceful\",\"high school\\u002fdisrupted\",\"post-graduate\\u002fdisrupted\",\"undergraduate\\u002fdisrupted\",\"high school\\u002fNoisy\",\"undergraduate\\u002fNoisy\",\"high school\\u002fPeaceful\",\"undergraduate\\u002fPeaceful\",\"undergraduate\\u002fUnknown\",\"high school\\u002fdisrupted\",\"post-graduate\\u002fdisrupted\",\"undergraduate\\u002fdisrupted\",\"high school\\u002fNoisy\",\"undergraduate\\u002fNoisy\",\"high school\\u002fPeaceful\",\"post-graduate\\u002fPeaceful\",\"undergraduate\\u002fPeaceful\",\"post-graduate\\u002fdisrupted\",\"undergraduate\\u002fdisrupted\",\"high school\",\"post-graduate\",\"undergraduate\",\"high school\",\"post-graduate\",\"undergraduate\",\"undergraduate\",\"high school\",\"post-graduate\",\"undergraduate\",\"\",\"\",\"\"],\"values\":[18,7,48,37,13,127,4,4,59,26,17,9,15,4,10,4,42,4,3,3,8,29,5,25,48,7,68,49,21,171,4,14,13,126,111,41,369],\"type\":\"treemap\"}],                        {\"template\":{\"data\":{\"histogram2dcontour\":[{\"type\":\"histogram2dcontour\",\"colorbar\":{\"outlinewidth\":0,\"ticks\":\"\"},\"colorscale\":[[0.0,\"#0d0887\"],[0.1111111111111111,\"#46039f\"],[0.2222222222222222,\"#7201a8\"],[0.3333333333333333,\"#9c179e\"],[0.4444444444444444,\"#bd3786\"],[0.5555555555555556,\"#d8576b\"],[0.6666666666666666,\"#ed7953\"],[0.7777777777777778,\"#fb9f3a\"],[0.8888888888888888,\"#fdca26\"],[1.0,\"#f0f921\"]]}],\"choropleth\":[{\"type\":\"choropleth\",\"colorbar\":{\"outlinewidth\":0,\"ticks\":\"\"}}],\"histogram2d\":[{\"type\":\"histogram2d\",\"colorbar\":{\"outlinewidth\":0,\"ticks\":\"\"},\"colorscale\":[[0.0,\"#0d0887\"],[0.1111111111111111,\"#46039f\"],[0.2222222222222222,\"#7201a8\"],[0.3333333333333333,\"#9c179e\"],[0.4444444444444444,\"#bd3786\"],[0.5555555555555556,\"#d8576b\"],[0.6666666666666666,\"#ed7953\"],[0.7777777777777778,\"#fb9f3a\"],[0.8888888888888888,\"#fdca26\"],[1.0,\"#f0f921\"]]}],\"heatmap\":[{\"type\":\"heatmap\",\"colorbar\":{\"outlinewidth\":0,\"ticks\":\"\"},\"colorscale\":[[0.0,\"#0d0887\"],[0.1111111111111111,\"#46039f\"],[0.2222222222222222,\"#7201a8\"],[0.3333333333333333,\"#9c179e\"],[0.4444444444444444,\"#bd3786\"],[0.5555555555555556,\"#d8576b\"],[0.6666666666666666,\"#ed7953\"],[0.7777777777777778,\"#fb9f3a\"],[0.8888888888888888,\"#fdca26\"],[1.0,\"#f0f921\"]]}],\"heatmapgl\":[{\"type\":\"heatmapgl\",\"colorbar\":{\"outlinewidth\":0,\"ticks\":\"\"},\"colorscale\":[[0.0,\"#0d0887\"],[0.1111111111111111,\"#46039f\"],[0.2222222222222222,\"#7201a8\"],[0.3333333333333333,\"#9c179e\"],[0.4444444444444444,\"#bd3786\"],[0.5555555555555556,\"#d8576b\"],[0.6666666666666666,\"#ed7953\"],[0.7777777777777778,\"#fb9f3a\"],[0.8888888888888888,\"#fdca26\"],[1.0,\"#f0f921\"]]}],\"contourcarpet\":[{\"type\":\"contourcarpet\",\"colorbar\":{\"outlinewidth\":0,\"ticks\":\"\"}}],\"contour\":[{\"type\":\"contour\",\"colorbar\":{\"outlinewidth\":0,\"ticks\":\"\"},\"colorscale\":[[0.0,\"#0d0887\"],[0.1111111111111111,\"#46039f\"],[0.2222222222222222,\"#7201a8\"],[0.3333333333333333,\"#9c179e\"],[0.4444444444444444,\"#bd3786\"],[0.5555555555555556,\"#d8576b\"],[0.6666666666666666,\"#ed7953\"],[0.7777777777777778,\"#fb9f3a\"],[0.8888888888888888,\"#fdca26\"],[1.0,\"#f0f921\"]]}],\"surface\":[{\"type\":\"surface\",\"colorbar\":{\"outlinewidth\":0,\"ticks\":\"\"},\"colorscale\":[[0.0,\"#0d0887\"],[0.1111111111111111,\"#46039f\"],[0.2222222222222222,\"#7201a8\"],[0.3333333333333333,\"#9c179e\"],[0.4444444444444444,\"#bd3786\"],[0.5555555555555556,\"#d8576b\"],[0.6666666666666666,\"#ed7953\"],[0.7777777777777778,\"#fb9f3a\"],[0.8888888888888888,\"#fdca26\"],[1.0,\"#f0f921\"]]}],\"mesh3d\":[{\"type\":\"mesh3d\",\"colorbar\":{\"outlinewidth\":0,\"ticks\":\"\"}}],\"scatter\":[{\"fillpattern\":{\"fillmode\":\"overlay\",\"size\":10,\"solidity\":0.2},\"type\":\"scatter\"}],\"parcoords\":[{\"type\":\"parcoords\",\"line\":{\"colorbar\":{\"outlinewidth\":0,\"ticks\":\"\"}}}],\"scatterpolargl\":[{\"type\":\"scatterpolargl\",\"marker\":{\"colorbar\":{\"outlinewidth\":0,\"ticks\":\"\"}}}],\"bar\":[{\"error_x\":{\"color\":\"#2a3f5f\"},\"error_y\":{\"color\":\"#2a3f5f\"},\"marker\":{\"line\":{\"color\":\"#E5ECF6\",\"width\":0.5},\"pattern\":{\"fillmode\":\"overlay\",\"size\":10,\"solidity\":0.2}},\"type\":\"bar\"}],\"scattergeo\":[{\"type\":\"scattergeo\",\"marker\":{\"colorbar\":{\"outlinewidth\":0,\"ticks\":\"\"}}}],\"scatterpolar\":[{\"type\":\"scatterpolar\",\"marker\":{\"colorbar\":{\"outlinewidth\":0,\"ticks\":\"\"}}}],\"histogram\":[{\"marker\":{\"pattern\":{\"fillmode\":\"overlay\",\"size\":10,\"solidity\":0.2}},\"type\":\"histogram\"}],\"scattergl\":[{\"type\":\"scattergl\",\"marker\":{\"colorbar\":{\"outlinewidth\":0,\"ticks\":\"\"}}}],\"scatter3d\":[{\"type\":\"scatter3d\",\"line\":{\"colorbar\":{\"outlinewidth\":0,\"ticks\":\"\"}},\"marker\":{\"colorbar\":{\"outlinewidth\":0,\"ticks\":\"\"}}}],\"scattermapbox\":[{\"type\":\"scattermapbox\",\"marker\":{\"colorbar\":{\"outlinewidth\":0,\"ticks\":\"\"}}}],\"scatterternary\":[{\"type\":\"scatterternary\",\"marker\":{\"colorbar\":{\"outlinewidth\":0,\"ticks\":\"\"}}}],\"scattercarpet\":[{\"type\":\"scattercarpet\",\"marker\":{\"colorbar\":{\"outlinewidth\":0,\"ticks\":\"\"}}}],\"carpet\":[{\"aaxis\":{\"endlinecolor\":\"#2a3f5f\",\"gridcolor\":\"white\",\"linecolor\":\"white\",\"minorgridcolor\":\"white\",\"startlinecolor\":\"#2a3f5f\"},\"baxis\":{\"endlinecolor\":\"#2a3f5f\",\"gridcolor\":\"white\",\"linecolor\":\"white\",\"minorgridcolor\":\"white\",\"startlinecolor\":\"#2a3f5f\"},\"type\":\"carpet\"}],\"table\":[{\"cells\":{\"fill\":{\"color\":\"#EBF0F8\"},\"line\":{\"color\":\"white\"}},\"header\":{\"fill\":{\"color\":\"#C8D4E3\"},\"line\":{\"color\":\"white\"}},\"type\":\"table\"}],\"barpolar\":[{\"marker\":{\"line\":{\"color\":\"#E5ECF6\",\"width\":0.5},\"pattern\":{\"fillmode\":\"overlay\",\"size\":10,\"solidity\":0.2}},\"type\":\"barpolar\"}],\"pie\":[{\"automargin\":true,\"type\":\"pie\"}]},\"layout\":{\"autotypenumbers\":\"strict\",\"colorway\":[\"#636efa\",\"#EF553B\",\"#00cc96\",\"#ab63fa\",\"#FFA15A\",\"#19d3f3\",\"#FF6692\",\"#B6E880\",\"#FF97FF\",\"#FECB52\"],\"font\":{\"color\":\"#2a3f5f\"},\"hovermode\":\"closest\",\"hoverlabel\":{\"align\":\"left\"},\"paper_bgcolor\":\"white\",\"plot_bgcolor\":\"#E5ECF6\",\"polar\":{\"bgcolor\":\"#E5ECF6\",\"angularaxis\":{\"gridcolor\":\"white\",\"linecolor\":\"white\",\"ticks\":\"\"},\"radialaxis\":{\"gridcolor\":\"white\",\"linecolor\":\"white\",\"ticks\":\"\"}},\"ternary\":{\"bgcolor\":\"#E5ECF6\",\"aaxis\":{\"gridcolor\":\"white\",\"linecolor\":\"white\",\"ticks\":\"\"},\"baxis\":{\"gridcolor\":\"white\",\"linecolor\":\"white\",\"ticks\":\"\"},\"caxis\":{\"gridcolor\":\"white\",\"linecolor\":\"white\",\"ticks\":\"\"}},\"coloraxis\":{\"colorbar\":{\"outlinewidth\":0,\"ticks\":\"\"}},\"colorscale\":{\"sequential\":[[0.0,\"#0d0887\"],[0.1111111111111111,\"#46039f\"],[0.2222222222222222,\"#7201a8\"],[0.3333333333333333,\"#9c179e\"],[0.4444444444444444,\"#bd3786\"],[0.5555555555555556,\"#d8576b\"],[0.6666666666666666,\"#ed7953\"],[0.7777777777777778,\"#fb9f3a\"],[0.8888888888888888,\"#fdca26\"],[1.0,\"#f0f921\"]],\"sequentialminus\":[[0.0,\"#0d0887\"],[0.1111111111111111,\"#46039f\"],[0.2222222222222222,\"#7201a8\"],[0.3333333333333333,\"#9c179e\"],[0.4444444444444444,\"#bd3786\"],[0.5555555555555556,\"#d8576b\"],[0.6666666666666666,\"#ed7953\"],[0.7777777777777778,\"#fb9f3a\"],[0.8888888888888888,\"#fdca26\"],[1.0,\"#f0f921\"]],\"diverging\":[[0,\"#8e0152\"],[0.1,\"#c51b7d\"],[0.2,\"#de77ae\"],[0.3,\"#f1b6da\"],[0.4,\"#fde0ef\"],[0.5,\"#f7f7f7\"],[0.6,\"#e6f5d0\"],[0.7,\"#b8e186\"],[0.8,\"#7fbc41\"],[0.9,\"#4d9221\"],[1,\"#276419\"]]},\"xaxis\":{\"gridcolor\":\"white\",\"linecolor\":\"white\",\"ticks\":\"\",\"title\":{\"standoff\":15},\"zerolinecolor\":\"white\",\"automargin\":true,\"zerolinewidth\":2},\"yaxis\":{\"gridcolor\":\"white\",\"linecolor\":\"white\",\"ticks\":\"\",\"title\":{\"standoff\":15},\"zerolinecolor\":\"white\",\"automargin\":true,\"zerolinewidth\":2},\"scene\":{\"xaxis\":{\"backgroundcolor\":\"#E5ECF6\",\"gridcolor\":\"white\",\"linecolor\":\"white\",\"showbackground\":true,\"ticks\":\"\",\"zerolinecolor\":\"white\",\"gridwidth\":2},\"yaxis\":{\"backgroundcolor\":\"#E5ECF6\",\"gridcolor\":\"white\",\"linecolor\":\"white\",\"showbackground\":true,\"ticks\":\"\",\"zerolinecolor\":\"white\",\"gridwidth\":2},\"zaxis\":{\"backgroundcolor\":\"#E5ECF6\",\"gridcolor\":\"white\",\"linecolor\":\"white\",\"showbackground\":true,\"ticks\":\"\",\"zerolinecolor\":\"white\",\"gridwidth\":2}},\"shapedefaults\":{\"line\":{\"color\":\"#2a3f5f\"}},\"annotationdefaults\":{\"arrowcolor\":\"#2a3f5f\",\"arrowhead\":0,\"arrowwidth\":1},\"geo\":{\"bgcolor\":\"white\",\"landcolor\":\"#E5ECF6\",\"subunitcolor\":\"white\",\"showland\":true,\"showlakes\":true,\"lakecolor\":\"white\"},\"title\":{\"x\":0.05},\"mapbox\":{\"style\":\"light\"}}},\"legend\":{\"tracegroupgap\":0},\"margin\":{\"t\":60}},                        {\"responsive\": true}                    ).then(function(){\n",
              "                            \n",
              "var gd = document.getElementById('db37ca50-61e7-473a-a33e-a06e68d78384');\n",
              "var x = new MutationObserver(function (mutations, observer) {{\n",
              "        var display = window.getComputedStyle(gd).display;\n",
              "        if (!display || display === 'none') {{\n",
              "            console.log([gd, 'removed!']);\n",
              "            Plotly.purge(gd);\n",
              "            observer.disconnect();\n",
              "        }}\n",
              "}});\n",
              "\n",
              "// Listen for the removal of the full notebook cells\n",
              "var notebookContainer = gd.closest('#notebook-container');\n",
              "if (notebookContainer) {{\n",
              "    x.observe(notebookContainer, {childList: true});\n",
              "}}\n",
              "\n",
              "// Listen for the clearing of the current output cell\n",
              "var outputEl = gd.closest('.output');\n",
              "if (outputEl) {{\n",
              "    x.observe(outputEl, {childList: true});\n",
              "}}\n",
              "\n",
              "                        })                };                            </script>        </div>\n",
              "</body>\n",
              "</html>"
            ]
          },
          "metadata": {}
        }
      ]
    },
    {
      "cell_type": "markdown",
      "metadata": {
        "id": "74bc55da"
      },
      "source": [
        "## Generate sunburst visualization\n",
        "\n",
        "### Subtask:\n",
        "Create a sunburst visualization to show hierarchical data in a radial layout.\n"
      ]
    },
    {
      "cell_type": "markdown",
      "metadata": {
        "id": "405f69f8"
      },
      "source": [
        "**Reasoning**:\n",
        "Generate a sunburst chart using plotly.express with the specified hierarchical path and values.\n",
        "\n"
      ]
    },
    {
      "cell_type": "code",
      "metadata": {
        "colab": {
          "base_uri": "https://localhost:8080/",
          "height": 542
        },
        "id": "d72b7cff",
        "outputId": "da2cb1da-13ab-40f8-d183-f10acde8e61d"
      },
      "source": [
        "import plotly.express as px\n",
        "\n",
        "fig = px.sunburst(df, path=['Your Academic Stage', 'Study Environment', 'What coping strategy you use as a student?'], values='Rate your academic stress index ')\n",
        "fig.show()"
      ],
      "execution_count": null,
      "outputs": [
        {
          "output_type": "display_data",
          "data": {
            "text/html": [
              "<html>\n",
              "<head><meta charset=\"utf-8\" /></head>\n",
              "<body>\n",
              "    <div>            <script src=\"https://cdnjs.cloudflare.com/ajax/libs/mathjax/2.7.5/MathJax.js?config=TeX-AMS-MML_SVG\"></script><script type=\"text/javascript\">if (window.MathJax && window.MathJax.Hub && window.MathJax.Hub.Config) {window.MathJax.Hub.Config({SVG: {font: \"STIX-Web\"}});}</script>                <script type=\"text/javascript\">window.PlotlyConfig = {MathJaxConfig: 'local'};</script>\n",
              "        <script charset=\"utf-8\" src=\"https://cdn.plot.ly/plotly-2.35.2.min.js\"></script>                <div id=\"5a8fb563-f2be-4775-9154-f3435efe8133\" class=\"plotly-graph-div\" style=\"height:525px; width:100%;\"></div>            <script type=\"text/javascript\">                                    window.PLOTLYENV=window.PLOTLYENV || {};                                    if (document.getElementById(\"5a8fb563-f2be-4775-9154-f3435efe8133\")) {                    Plotly.newPlot(                        \"5a8fb563-f2be-4775-9154-f3435efe8133\",                        [{\"branchvalues\":\"total\",\"domain\":{\"x\":[0.0,1.0],\"y\":[0.0,1.0]},\"hovertemplate\":\"labels=%{label}\\u003cbr\\u003eRate your academic stress index =%{value}\\u003cbr\\u003eparent=%{parent}\\u003cbr\\u003eid=%{id}\\u003cextra\\u003e\\u003c\\u002fextra\\u003e\",\"ids\":[\"high school\\u002fNoisy\\u002fAnalyze the situation and handle it with intellect\",\"post-graduate\\u002fNoisy\\u002fAnalyze the situation and handle it with intellect\",\"undergraduate\\u002fNoisy\\u002fAnalyze the situation and handle it with intellect\",\"high school\\u002fPeaceful\\u002fAnalyze the situation and handle it with intellect\",\"post-graduate\\u002fPeaceful\\u002fAnalyze the situation and handle it with intellect\",\"undergraduate\\u002fPeaceful\\u002fAnalyze the situation and handle it with intellect\",\"high school\\u002fdisrupted\\u002fAnalyze the situation and handle it with intellect\",\"post-graduate\\u002fdisrupted\\u002fAnalyze the situation and handle it with intellect\",\"undergraduate\\u002fdisrupted\\u002fAnalyze the situation and handle it with intellect\",\"high school\\u002fNoisy\\u002fEmotional breakdown (crying a lot)\",\"undergraduate\\u002fNoisy\\u002fEmotional breakdown (crying a lot)\",\"high school\\u002fPeaceful\\u002fEmotional breakdown (crying a lot)\",\"undergraduate\\u002fPeaceful\\u002fEmotional breakdown (crying a lot)\",\"undergraduate\\u002fUnknown\\u002fEmotional breakdown (crying a lot)\",\"high school\\u002fdisrupted\\u002fEmotional breakdown (crying a lot)\",\"post-graduate\\u002fdisrupted\\u002fEmotional breakdown (crying a lot)\",\"undergraduate\\u002fdisrupted\\u002fEmotional breakdown (crying a lot)\",\"high school\\u002fNoisy\\u002fSocial support (friends, family)\",\"undergraduate\\u002fNoisy\\u002fSocial support (friends, family)\",\"high school\\u002fPeaceful\\u002fSocial support (friends, family)\",\"post-graduate\\u002fPeaceful\\u002fSocial support (friends, family)\",\"undergraduate\\u002fPeaceful\\u002fSocial support (friends, family)\",\"post-graduate\\u002fdisrupted\\u002fSocial support (friends, family)\",\"undergraduate\\u002fdisrupted\\u002fSocial support (friends, family)\",\"high school\\u002fNoisy\",\"post-graduate\\u002fNoisy\",\"undergraduate\\u002fNoisy\",\"high school\\u002fPeaceful\",\"post-graduate\\u002fPeaceful\",\"undergraduate\\u002fPeaceful\",\"undergraduate\\u002fUnknown\",\"high school\\u002fdisrupted\",\"post-graduate\\u002fdisrupted\",\"undergraduate\\u002fdisrupted\",\"high school\",\"post-graduate\",\"undergraduate\"],\"labels\":[\"Analyze the situation and handle it with intellect\",\"Analyze the situation and handle it with intellect\",\"Analyze the situation and handle it with intellect\",\"Analyze the situation and handle it with intellect\",\"Analyze the situation and handle it with intellect\",\"Analyze the situation and handle it with intellect\",\"Analyze the situation and handle it with intellect\",\"Analyze the situation and handle it with intellect\",\"Analyze the situation and handle it with intellect\",\"Emotional breakdown (crying a lot)\",\"Emotional breakdown (crying a lot)\",\"Emotional breakdown (crying a lot)\",\"Emotional breakdown (crying a lot)\",\"Emotional breakdown (crying a lot)\",\"Emotional breakdown (crying a lot)\",\"Emotional breakdown (crying a lot)\",\"Emotional breakdown (crying a lot)\",\"Social support (friends, family)\",\"Social support (friends, family)\",\"Social support (friends, family)\",\"Social support (friends, family)\",\"Social support (friends, family)\",\"Social support (friends, family)\",\"Social support (friends, family)\",\"Noisy\",\"Noisy\",\"Noisy\",\"Peaceful\",\"Peaceful\",\"Peaceful\",\"Unknown\",\"disrupted\",\"disrupted\",\"disrupted\",\"high school\",\"post-graduate\",\"undergraduate\"],\"name\":\"\",\"parents\":[\"high school\\u002fNoisy\",\"post-graduate\\u002fNoisy\",\"undergraduate\\u002fNoisy\",\"high school\\u002fPeaceful\",\"post-graduate\\u002fPeaceful\",\"undergraduate\\u002fPeaceful\",\"high school\\u002fdisrupted\",\"post-graduate\\u002fdisrupted\",\"undergraduate\\u002fdisrupted\",\"high school\\u002fNoisy\",\"undergraduate\\u002fNoisy\",\"high school\\u002fPeaceful\",\"undergraduate\\u002fPeaceful\",\"undergraduate\\u002fUnknown\",\"high school\\u002fdisrupted\",\"post-graduate\\u002fdisrupted\",\"undergraduate\\u002fdisrupted\",\"high school\\u002fNoisy\",\"undergraduate\\u002fNoisy\",\"high school\\u002fPeaceful\",\"post-graduate\\u002fPeaceful\",\"undergraduate\\u002fPeaceful\",\"post-graduate\\u002fdisrupted\",\"undergraduate\\u002fdisrupted\",\"high school\",\"post-graduate\",\"undergraduate\",\"high school\",\"post-graduate\",\"undergraduate\",\"undergraduate\",\"high school\",\"post-graduate\",\"undergraduate\",\"\",\"\",\"\"],\"values\":[18,7,48,37,13,127,4,4,59,26,17,9,15,4,10,4,42,4,3,3,8,29,5,25,48,7,68,49,21,171,4,14,13,126,111,41,369],\"type\":\"sunburst\"}],                        {\"template\":{\"data\":{\"histogram2dcontour\":[{\"type\":\"histogram2dcontour\",\"colorbar\":{\"outlinewidth\":0,\"ticks\":\"\"},\"colorscale\":[[0.0,\"#0d0887\"],[0.1111111111111111,\"#46039f\"],[0.2222222222222222,\"#7201a8\"],[0.3333333333333333,\"#9c179e\"],[0.4444444444444444,\"#bd3786\"],[0.5555555555555556,\"#d8576b\"],[0.6666666666666666,\"#ed7953\"],[0.7777777777777778,\"#fb9f3a\"],[0.8888888888888888,\"#fdca26\"],[1.0,\"#f0f921\"]]}],\"choropleth\":[{\"type\":\"choropleth\",\"colorbar\":{\"outlinewidth\":0,\"ticks\":\"\"}}],\"histogram2d\":[{\"type\":\"histogram2d\",\"colorbar\":{\"outlinewidth\":0,\"ticks\":\"\"},\"colorscale\":[[0.0,\"#0d0887\"],[0.1111111111111111,\"#46039f\"],[0.2222222222222222,\"#7201a8\"],[0.3333333333333333,\"#9c179e\"],[0.4444444444444444,\"#bd3786\"],[0.5555555555555556,\"#d8576b\"],[0.6666666666666666,\"#ed7953\"],[0.7777777777777778,\"#fb9f3a\"],[0.8888888888888888,\"#fdca26\"],[1.0,\"#f0f921\"]]}],\"heatmap\":[{\"type\":\"heatmap\",\"colorbar\":{\"outlinewidth\":0,\"ticks\":\"\"},\"colorscale\":[[0.0,\"#0d0887\"],[0.1111111111111111,\"#46039f\"],[0.2222222222222222,\"#7201a8\"],[0.3333333333333333,\"#9c179e\"],[0.4444444444444444,\"#bd3786\"],[0.5555555555555556,\"#d8576b\"],[0.6666666666666666,\"#ed7953\"],[0.7777777777777778,\"#fb9f3a\"],[0.8888888888888888,\"#fdca26\"],[1.0,\"#f0f921\"]]}],\"heatmapgl\":[{\"type\":\"heatmapgl\",\"colorbar\":{\"outlinewidth\":0,\"ticks\":\"\"},\"colorscale\":[[0.0,\"#0d0887\"],[0.1111111111111111,\"#46039f\"],[0.2222222222222222,\"#7201a8\"],[0.3333333333333333,\"#9c179e\"],[0.4444444444444444,\"#bd3786\"],[0.5555555555555556,\"#d8576b\"],[0.6666666666666666,\"#ed7953\"],[0.7777777777777778,\"#fb9f3a\"],[0.8888888888888888,\"#fdca26\"],[1.0,\"#f0f921\"]]}],\"contourcarpet\":[{\"type\":\"contourcarpet\",\"colorbar\":{\"outlinewidth\":0,\"ticks\":\"\"}}],\"contour\":[{\"type\":\"contour\",\"colorbar\":{\"outlinewidth\":0,\"ticks\":\"\"},\"colorscale\":[[0.0,\"#0d0887\"],[0.1111111111111111,\"#46039f\"],[0.2222222222222222,\"#7201a8\"],[0.3333333333333333,\"#9c179e\"],[0.4444444444444444,\"#bd3786\"],[0.5555555555555556,\"#d8576b\"],[0.6666666666666666,\"#ed7953\"],[0.7777777777777778,\"#fb9f3a\"],[0.8888888888888888,\"#fdca26\"],[1.0,\"#f0f921\"]]}],\"surface\":[{\"type\":\"surface\",\"colorbar\":{\"outlinewidth\":0,\"ticks\":\"\"},\"colorscale\":[[0.0,\"#0d0887\"],[0.1111111111111111,\"#46039f\"],[0.2222222222222222,\"#7201a8\"],[0.3333333333333333,\"#9c179e\"],[0.4444444444444444,\"#bd3786\"],[0.5555555555555556,\"#d8576b\"],[0.6666666666666666,\"#ed7953\"],[0.7777777777777778,\"#fb9f3a\"],[0.8888888888888888,\"#fdca26\"],[1.0,\"#f0f921\"]]}],\"mesh3d\":[{\"type\":\"mesh3d\",\"colorbar\":{\"outlinewidth\":0,\"ticks\":\"\"}}],\"scatter\":[{\"fillpattern\":{\"fillmode\":\"overlay\",\"size\":10,\"solidity\":0.2},\"type\":\"scatter\"}],\"parcoords\":[{\"type\":\"parcoords\",\"line\":{\"colorbar\":{\"outlinewidth\":0,\"ticks\":\"\"}}}],\"scatterpolargl\":[{\"type\":\"scatterpolargl\",\"marker\":{\"colorbar\":{\"outlinewidth\":0,\"ticks\":\"\"}}}],\"bar\":[{\"error_x\":{\"color\":\"#2a3f5f\"},\"error_y\":{\"color\":\"#2a3f5f\"},\"marker\":{\"line\":{\"color\":\"#E5ECF6\",\"width\":0.5},\"pattern\":{\"fillmode\":\"overlay\",\"size\":10,\"solidity\":0.2}},\"type\":\"bar\"}],\"scattergeo\":[{\"type\":\"scattergeo\",\"marker\":{\"colorbar\":{\"outlinewidth\":0,\"ticks\":\"\"}}}],\"scatterpolar\":[{\"type\":\"scatterpolar\",\"marker\":{\"colorbar\":{\"outlinewidth\":0,\"ticks\":\"\"}}}],\"histogram\":[{\"marker\":{\"pattern\":{\"fillmode\":\"overlay\",\"size\":10,\"solidity\":0.2}},\"type\":\"histogram\"}],\"scattergl\":[{\"type\":\"scattergl\",\"marker\":{\"colorbar\":{\"outlinewidth\":0,\"ticks\":\"\"}}}],\"scatter3d\":[{\"type\":\"scatter3d\",\"line\":{\"colorbar\":{\"outlinewidth\":0,\"ticks\":\"\"}},\"marker\":{\"colorbar\":{\"outlinewidth\":0,\"ticks\":\"\"}}}],\"scattermapbox\":[{\"type\":\"scattermapbox\",\"marker\":{\"colorbar\":{\"outlinewidth\":0,\"ticks\":\"\"}}}],\"scatterternary\":[{\"type\":\"scatterternary\",\"marker\":{\"colorbar\":{\"outlinewidth\":0,\"ticks\":\"\"}}}],\"scattercarpet\":[{\"type\":\"scattercarpet\",\"marker\":{\"colorbar\":{\"outlinewidth\":0,\"ticks\":\"\"}}}],\"carpet\":[{\"aaxis\":{\"endlinecolor\":\"#2a3f5f\",\"gridcolor\":\"white\",\"linecolor\":\"white\",\"minorgridcolor\":\"white\",\"startlinecolor\":\"#2a3f5f\"},\"baxis\":{\"endlinecolor\":\"#2a3f5f\",\"gridcolor\":\"white\",\"linecolor\":\"white\",\"minorgridcolor\":\"white\",\"startlinecolor\":\"#2a3f5f\"},\"type\":\"carpet\"}],\"table\":[{\"cells\":{\"fill\":{\"color\":\"#EBF0F8\"},\"line\":{\"color\":\"white\"}},\"header\":{\"fill\":{\"color\":\"#C8D4E3\"},\"line\":{\"color\":\"white\"}},\"type\":\"table\"}],\"barpolar\":[{\"marker\":{\"line\":{\"color\":\"#E5ECF6\",\"width\":0.5},\"pattern\":{\"fillmode\":\"overlay\",\"size\":10,\"solidity\":0.2}},\"type\":\"barpolar\"}],\"pie\":[{\"automargin\":true,\"type\":\"pie\"}]},\"layout\":{\"autotypenumbers\":\"strict\",\"colorway\":[\"#636efa\",\"#EF553B\",\"#00cc96\",\"#ab63fa\",\"#FFA15A\",\"#19d3f3\",\"#FF6692\",\"#B6E880\",\"#FF97FF\",\"#FECB52\"],\"font\":{\"color\":\"#2a3f5f\"},\"hovermode\":\"closest\",\"hoverlabel\":{\"align\":\"left\"},\"paper_bgcolor\":\"white\",\"plot_bgcolor\":\"#E5ECF6\",\"polar\":{\"bgcolor\":\"#E5ECF6\",\"angularaxis\":{\"gridcolor\":\"white\",\"linecolor\":\"white\",\"ticks\":\"\"},\"radialaxis\":{\"gridcolor\":\"white\",\"linecolor\":\"white\",\"ticks\":\"\"}},\"ternary\":{\"bgcolor\":\"#E5ECF6\",\"aaxis\":{\"gridcolor\":\"white\",\"linecolor\":\"white\",\"ticks\":\"\"},\"baxis\":{\"gridcolor\":\"white\",\"linecolor\":\"white\",\"ticks\":\"\"},\"caxis\":{\"gridcolor\":\"white\",\"linecolor\":\"white\",\"ticks\":\"\"}},\"coloraxis\":{\"colorbar\":{\"outlinewidth\":0,\"ticks\":\"\"}},\"colorscale\":{\"sequential\":[[0.0,\"#0d0887\"],[0.1111111111111111,\"#46039f\"],[0.2222222222222222,\"#7201a8\"],[0.3333333333333333,\"#9c179e\"],[0.4444444444444444,\"#bd3786\"],[0.5555555555555556,\"#d8576b\"],[0.6666666666666666,\"#ed7953\"],[0.7777777777777778,\"#fb9f3a\"],[0.8888888888888888,\"#fdca26\"],[1.0,\"#f0f921\"]],\"sequentialminus\":[[0.0,\"#0d0887\"],[0.1111111111111111,\"#46039f\"],[0.2222222222222222,\"#7201a8\"],[0.3333333333333333,\"#9c179e\"],[0.4444444444444444,\"#bd3786\"],[0.5555555555555556,\"#d8576b\"],[0.6666666666666666,\"#ed7953\"],[0.7777777777777778,\"#fb9f3a\"],[0.8888888888888888,\"#fdca26\"],[1.0,\"#f0f921\"]],\"diverging\":[[0,\"#8e0152\"],[0.1,\"#c51b7d\"],[0.2,\"#de77ae\"],[0.3,\"#f1b6da\"],[0.4,\"#fde0ef\"],[0.5,\"#f7f7f7\"],[0.6,\"#e6f5d0\"],[0.7,\"#b8e186\"],[0.8,\"#7fbc41\"],[0.9,\"#4d9221\"],[1,\"#276419\"]]},\"xaxis\":{\"gridcolor\":\"white\",\"linecolor\":\"white\",\"ticks\":\"\",\"title\":{\"standoff\":15},\"zerolinecolor\":\"white\",\"automargin\":true,\"zerolinewidth\":2},\"yaxis\":{\"gridcolor\":\"white\",\"linecolor\":\"white\",\"ticks\":\"\",\"title\":{\"standoff\":15},\"zerolinecolor\":\"white\",\"automargin\":true,\"zerolinewidth\":2},\"scene\":{\"xaxis\":{\"backgroundcolor\":\"#E5ECF6\",\"gridcolor\":\"white\",\"linecolor\":\"white\",\"showbackground\":true,\"ticks\":\"\",\"zerolinecolor\":\"white\",\"gridwidth\":2},\"yaxis\":{\"backgroundcolor\":\"#E5ECF6\",\"gridcolor\":\"white\",\"linecolor\":\"white\",\"showbackground\":true,\"ticks\":\"\",\"zerolinecolor\":\"white\",\"gridwidth\":2},\"zaxis\":{\"backgroundcolor\":\"#E5ECF6\",\"gridcolor\":\"white\",\"linecolor\":\"white\",\"showbackground\":true,\"ticks\":\"\",\"zerolinecolor\":\"white\",\"gridwidth\":2}},\"shapedefaults\":{\"line\":{\"color\":\"#2a3f5f\"}},\"annotationdefaults\":{\"arrowcolor\":\"#2a3f5f\",\"arrowhead\":0,\"arrowwidth\":1},\"geo\":{\"bgcolor\":\"white\",\"landcolor\":\"#E5ECF6\",\"subunitcolor\":\"white\",\"showland\":true,\"showlakes\":true,\"lakecolor\":\"white\"},\"title\":{\"x\":0.05},\"mapbox\":{\"style\":\"light\"}}},\"legend\":{\"tracegroupgap\":0},\"margin\":{\"t\":60}},                        {\"responsive\": true}                    ).then(function(){\n",
              "                            \n",
              "var gd = document.getElementById('5a8fb563-f2be-4775-9154-f3435efe8133');\n",
              "var x = new MutationObserver(function (mutations, observer) {{\n",
              "        var display = window.getComputedStyle(gd).display;\n",
              "        if (!display || display === 'none') {{\n",
              "            console.log([gd, 'removed!']);\n",
              "            Plotly.purge(gd);\n",
              "            observer.disconnect();\n",
              "        }}\n",
              "}});\n",
              "\n",
              "// Listen for the removal of the full notebook cells\n",
              "var notebookContainer = gd.closest('#notebook-container');\n",
              "if (notebookContainer) {{\n",
              "    x.observe(notebookContainer, {childList: true});\n",
              "}}\n",
              "\n",
              "// Listen for the clearing of the current output cell\n",
              "var outputEl = gd.closest('.output');\n",
              "if (outputEl) {{\n",
              "    x.observe(outputEl, {childList: true});\n",
              "}}\n",
              "\n",
              "                        })                };                            </script>        </div>\n",
              "</body>\n",
              "</html>"
            ]
          },
          "metadata": {}
        }
      ]
    },
    {
      "cell_type": "markdown",
      "metadata": {
        "id": "8a4c6da0"
      },
      "source": [
        "## Summary:\n",
        "\n",
        "### Data Analysis Key Findings\n",
        "\n",
        "*   The dataset was successfully loaded into a pandas DataFrame.\n",
        "*   The DataFrame contains columns with `object` and `int64` data types.\n",
        "*   Missing values were identified in the 'Study Environment' column.\n",
        "*   The treemap visualization was successfully generated after filling missing values in 'Study Environment' with 'Unknown'.\n",
        "*   The sunburst visualization was successfully generated using the specified hierarchical path and values.\n",
        "\n",
        "### Insights or Next Steps\n",
        "\n",
        "*   The visualizations provide a hierarchical view of academic stress index across different academic stages, study environments, and coping strategies. Further analysis could explore the average stress index for each combination of these categories.\n",
        "*   Investigate other columns in the dataset to identify additional factors that might influence academic stress levels and incorporate them into future visualizations or analyses.\n"
      ]
    },
    {
      "cell_type": "markdown",
      "metadata": {
        "id": "9819030d"
      },
      "source": [
        "# Task\n",
        "Load the dataset from \"/content/academic Stress level - maintainance 1.csv\", preprocess it, and then generate treemap and sunburst visualizations."
      ]
    },
    {
      "cell_type": "markdown",
      "metadata": {
        "id": "98884602"
      },
      "source": [
        "## Handle missing values\n",
        "\n",
        "### Subtask:\n",
        "Address any missing values in the dataset as identified during the inspection phase.\n"
      ]
    },
    {
      "cell_type": "markdown",
      "metadata": {
        "id": "68c36d88"
      },
      "source": [
        "**Reasoning**:\n",
        "I will fill the missing values in the 'Study Environment' column with 'Unknown' as identified in the previous inspection and instructed in the current subtask.\n",
        "\n"
      ]
    },
    {
      "cell_type": "code",
      "metadata": {
        "colab": {
          "base_uri": "https://localhost:8080/",
          "height": 312
        },
        "id": "a4804352",
        "outputId": "0d761225-4b6e-42b3-8abb-9dd5455f2ec0"
      },
      "source": [
        "df['Study Environment'].fillna('Unknown', inplace=True)\n",
        "display(df.info())"
      ],
      "execution_count": null,
      "outputs": [
        {
          "output_type": "stream",
          "name": "stdout",
          "text": [
            "<class 'pandas.core.frame.DataFrame'>\n",
            "RangeIndex: 140 entries, 0 to 139\n",
            "Data columns (total 9 columns):\n",
            " #   Column                                                               Non-Null Count  Dtype \n",
            "---  ------                                                               --------------  ----- \n",
            " 0   Timestamp                                                            140 non-null    object\n",
            " 1   Your Academic Stage                                                  140 non-null    object\n",
            " 2   Peer pressure                                                        140 non-null    int64 \n",
            " 3   Academic pressure from your home                                     140 non-null    int64 \n",
            " 4   Study Environment                                                    140 non-null    object\n",
            " 5   What coping strategy you use as a student?                           140 non-null    object\n",
            " 6   Do you have any bad habits like smoking, drinking on a daily basis?  140 non-null    object\n",
            " 7   What would you rate the academic  competition in your student life   140 non-null    int64 \n",
            " 8   Rate your academic stress index                                      140 non-null    int64 \n",
            "dtypes: int64(4), object(5)\n",
            "memory usage: 10.0+ KB\n"
          ]
        },
        {
          "output_type": "display_data",
          "data": {
            "text/plain": [
              "None"
            ]
          },
          "metadata": {}
        }
      ]
    },
    {
      "cell_type": "markdown",
      "metadata": {
        "id": "51ff692f"
      },
      "source": [
        "## Summary:\n",
        "\n",
        "### Data Analysis Key Findings\n",
        "\n",
        "* Missing values in the 'Study Environment' column were successfully filled with 'Unknown'.\n",
        "\n",
        "### Insights or Next Steps\n",
        "\n",
        "* The next step is to proceed with the visualization phase now that the data has been preprocessed.\n"
      ]
    },
    {
      "cell_type": "markdown",
      "metadata": {
        "id": "f574641e"
      },
      "source": [
        "# Task\n",
        "Organize the code into sections for data processing and visualization, add titles and headings to the plots, and explain and fix any errors in the code."
      ]
    },
    {
      "cell_type": "markdown",
      "metadata": {
        "id": "cbd124af"
      },
      "source": [
        "## Load and inspect data\n",
        "\n",
        "### Subtask:\n",
        "Load the dataset from '/content/academic Stress level - maintainance 1.csv' into a pandas DataFrame and display the first few rows along with the column information.\n"
      ]
    },
    {
      "cell_type": "markdown",
      "metadata": {
        "id": "72e6b74a"
      },
      "source": [
        "**Reasoning**:\n",
        "Load the data into a pandas DataFrame and display the first few rows and column information as instructed.\n",
        "\n"
      ]
    },
    {
      "cell_type": "code",
      "metadata": {
        "colab": {
          "base_uri": "https://localhost:8080/",
          "height": 865
        },
        "id": "0f35df7f",
        "outputId": "a28e8cd4-3734-4be6-98e0-df1f4eb4411e"
      },
      "source": [
        "import pandas as pd\n",
        "\n",
        "df = pd.read_csv('/content/academic Stress level - maintainance 1.csv')\n",
        "display(df.head())\n",
        "display(df.info())"
      ],
      "execution_count": null,
      "outputs": [
        {
          "output_type": "display_data",
          "data": {
            "text/plain": [
              "             Timestamp Your Academic Stage  Peer pressure  \\\n",
              "0  24/07/2025 22:05:39       undergraduate              4   \n",
              "1  24/07/2025 22:05:52       undergraduate              3   \n",
              "2  24/07/2025 22:06:39       undergraduate              1   \n",
              "3  24/07/2025 22:06:45       undergraduate              3   \n",
              "4  24/07/2025 22:08:06       undergraduate              3   \n",
              "\n",
              "   Academic pressure from your home Study Environment  \\\n",
              "0                                 5             Noisy   \n",
              "1                                 4          Peaceful   \n",
              "2                                 1          Peaceful   \n",
              "3                                 2          Peaceful   \n",
              "4                                 3          Peaceful   \n",
              "\n",
              "          What coping strategy you use as a student?  \\\n",
              "0  Analyze the situation and handle it with intel...   \n",
              "1  Analyze the situation and handle it with intel...   \n",
              "2                   Social support (friends, family)   \n",
              "3  Analyze the situation and handle it with intel...   \n",
              "4  Analyze the situation and handle it with intel...   \n",
              "\n",
              "  Do you have any bad habits like smoking, drinking on a daily basis?  \\\n",
              "0                                                 No                    \n",
              "1                                                 No                    \n",
              "2                                                 No                    \n",
              "3                                                 No                    \n",
              "4                                                 No                    \n",
              "\n",
              "   What would you rate the academic  competition in your student life  \\\n",
              "0                                                  3                    \n",
              "1                                                  3                    \n",
              "2                                                  2                    \n",
              "3                                                  4                    \n",
              "4                                                  4                    \n",
              "\n",
              "   Rate your academic stress index   \n",
              "0                                 5  \n",
              "1                                 3  \n",
              "2                                 4  \n",
              "3                                 3  \n",
              "4                                 5  "
            ],
            "text/html": [
              "\n",
              "  <div id=\"df-7ae7ee77-77ca-4078-a782-4b918536f9a2\" class=\"colab-df-container\">\n",
              "    <div>\n",
              "<style scoped>\n",
              "    .dataframe tbody tr th:only-of-type {\n",
              "        vertical-align: middle;\n",
              "    }\n",
              "\n",
              "    .dataframe tbody tr th {\n",
              "        vertical-align: top;\n",
              "    }\n",
              "\n",
              "    .dataframe thead th {\n",
              "        text-align: right;\n",
              "    }\n",
              "</style>\n",
              "<table border=\"1\" class=\"dataframe\">\n",
              "  <thead>\n",
              "    <tr style=\"text-align: right;\">\n",
              "      <th></th>\n",
              "      <th>Timestamp</th>\n",
              "      <th>Your Academic Stage</th>\n",
              "      <th>Peer pressure</th>\n",
              "      <th>Academic pressure from your home</th>\n",
              "      <th>Study Environment</th>\n",
              "      <th>What coping strategy you use as a student?</th>\n",
              "      <th>Do you have any bad habits like smoking, drinking on a daily basis?</th>\n",
              "      <th>What would you rate the academic  competition in your student life</th>\n",
              "      <th>Rate your academic stress index</th>\n",
              "    </tr>\n",
              "  </thead>\n",
              "  <tbody>\n",
              "    <tr>\n",
              "      <th>0</th>\n",
              "      <td>24/07/2025 22:05:39</td>\n",
              "      <td>undergraduate</td>\n",
              "      <td>4</td>\n",
              "      <td>5</td>\n",
              "      <td>Noisy</td>\n",
              "      <td>Analyze the situation and handle it with intel...</td>\n",
              "      <td>No</td>\n",
              "      <td>3</td>\n",
              "      <td>5</td>\n",
              "    </tr>\n",
              "    <tr>\n",
              "      <th>1</th>\n",
              "      <td>24/07/2025 22:05:52</td>\n",
              "      <td>undergraduate</td>\n",
              "      <td>3</td>\n",
              "      <td>4</td>\n",
              "      <td>Peaceful</td>\n",
              "      <td>Analyze the situation and handle it with intel...</td>\n",
              "      <td>No</td>\n",
              "      <td>3</td>\n",
              "      <td>3</td>\n",
              "    </tr>\n",
              "    <tr>\n",
              "      <th>2</th>\n",
              "      <td>24/07/2025 22:06:39</td>\n",
              "      <td>undergraduate</td>\n",
              "      <td>1</td>\n",
              "      <td>1</td>\n",
              "      <td>Peaceful</td>\n",
              "      <td>Social support (friends, family)</td>\n",
              "      <td>No</td>\n",
              "      <td>2</td>\n",
              "      <td>4</td>\n",
              "    </tr>\n",
              "    <tr>\n",
              "      <th>3</th>\n",
              "      <td>24/07/2025 22:06:45</td>\n",
              "      <td>undergraduate</td>\n",
              "      <td>3</td>\n",
              "      <td>2</td>\n",
              "      <td>Peaceful</td>\n",
              "      <td>Analyze the situation and handle it with intel...</td>\n",
              "      <td>No</td>\n",
              "      <td>4</td>\n",
              "      <td>3</td>\n",
              "    </tr>\n",
              "    <tr>\n",
              "      <th>4</th>\n",
              "      <td>24/07/2025 22:08:06</td>\n",
              "      <td>undergraduate</td>\n",
              "      <td>3</td>\n",
              "      <td>3</td>\n",
              "      <td>Peaceful</td>\n",
              "      <td>Analyze the situation and handle it with intel...</td>\n",
              "      <td>No</td>\n",
              "      <td>4</td>\n",
              "      <td>5</td>\n",
              "    </tr>\n",
              "  </tbody>\n",
              "</table>\n",
              "</div>\n",
              "    <div class=\"colab-df-buttons\">\n",
              "\n",
              "  <div class=\"colab-df-container\">\n",
              "    <button class=\"colab-df-convert\" onclick=\"convertToInteractive('df-7ae7ee77-77ca-4078-a782-4b918536f9a2')\"\n",
              "            title=\"Convert this dataframe to an interactive table.\"\n",
              "            style=\"display:none;\">\n",
              "\n",
              "  <svg xmlns=\"http://www.w3.org/2000/svg\" height=\"24px\" viewBox=\"0 -960 960 960\">\n",
              "    <path d=\"M120-120v-720h720v720H120Zm60-500h600v-160H180v160Zm220 220h160v-160H400v160Zm0 220h160v-160H400v160ZM180-400h160v-160H180v160Zm440 0h160v-160H620v160ZM180-180h160v-160H180v160Zm440 0h160v-160H620v160Z\"/>\n",
              "  </svg>\n",
              "    </button>\n",
              "\n",
              "  <style>\n",
              "    .colab-df-container {\n",
              "      display:flex;\n",
              "      gap: 12px;\n",
              "    }\n",
              "\n",
              "    .colab-df-convert {\n",
              "      background-color: #E8F0FE;\n",
              "      border: none;\n",
              "      border-radius: 50%;\n",
              "      cursor: pointer;\n",
              "      display: none;\n",
              "      fill: #1967D2;\n",
              "      height: 32px;\n",
              "      padding: 0 0 0 0;\n",
              "      width: 32px;\n",
              "    }\n",
              "\n",
              "    .colab-df-convert:hover {\n",
              "      background-color: #E2EBFA;\n",
              "      box-shadow: 0px 1px 2px rgba(60, 64, 67, 0.3), 0px 1px 3px 1px rgba(60, 64, 67, 0.15);\n",
              "      fill: #174EA6;\n",
              "    }\n",
              "\n",
              "    .colab-df-buttons div {\n",
              "      margin-bottom: 4px;\n",
              "    }\n",
              "\n",
              "    [theme=dark] .colab-df-convert {\n",
              "      background-color: #3B4455;\n",
              "      fill: #D2E3FC;\n",
              "    }\n",
              "\n",
              "    [theme=dark] .colab-df-convert:hover {\n",
              "      background-color: #434B5C;\n",
              "      box-shadow: 0px 1px 3px 1px rgba(0, 0, 0, 0.15);\n",
              "      filter: drop-shadow(0px 1px 2px rgba(0, 0, 0, 0.3));\n",
              "      fill: #FFFFFF;\n",
              "    }\n",
              "  </style>\n",
              "\n",
              "    <script>\n",
              "      const buttonEl =\n",
              "        document.querySelector('#df-7ae7ee77-77ca-4078-a782-4b918536f9a2 button.colab-df-convert');\n",
              "      buttonEl.style.display =\n",
              "        google.colab.kernel.accessAllowed ? 'block' : 'none';\n",
              "\n",
              "      async function convertToInteractive(key) {\n",
              "        const element = document.querySelector('#df-7ae7ee77-77ca-4078-a782-4b918536f9a2');\n",
              "        const dataTable =\n",
              "          await google.colab.kernel.invokeFunction('convertToInteractive',\n",
              "                                                    [key], {});\n",
              "        if (!dataTable) return;\n",
              "\n",
              "        const docLinkHtml = 'Like what you see? Visit the ' +\n",
              "          '<a target=\"_blank\" href=https://colab.research.google.com/notebooks/data_table.ipynb>data table notebook</a>'\n",
              "          + ' to learn more about interactive tables.';\n",
              "        element.innerHTML = '';\n",
              "        dataTable['output_type'] = 'display_data';\n",
              "        await google.colab.output.renderOutput(dataTable, element);\n",
              "        const docLink = document.createElement('div');\n",
              "        docLink.innerHTML = docLinkHtml;\n",
              "        element.appendChild(docLink);\n",
              "      }\n",
              "    </script>\n",
              "  </div>\n",
              "\n",
              "\n",
              "    <div id=\"df-869e462e-2cbd-48e9-a2d9-36bf5f5bd461\">\n",
              "      <button class=\"colab-df-quickchart\" onclick=\"quickchart('df-869e462e-2cbd-48e9-a2d9-36bf5f5bd461')\"\n",
              "                title=\"Suggest charts\"\n",
              "                style=\"display:none;\">\n",
              "\n",
              "<svg xmlns=\"http://www.w3.org/2000/svg\" height=\"24px\"viewBox=\"0 0 24 24\"\n",
              "     width=\"24px\">\n",
              "    <g>\n",
              "        <path d=\"M19 3H5c-1.1 0-2 .9-2 2v14c0 1.1.9 2 2 2h14c1.1 0 2-.9 2-2V5c0-1.1-.9-2-2-2zM9 17H7v-7h2v7zm4 0h-2V7h2v10zm4 0h-2v-4h2v4z\"/>\n",
              "    </g>\n",
              "</svg>\n",
              "      </button>\n",
              "\n",
              "<style>\n",
              "  .colab-df-quickchart {\n",
              "      --bg-color: #E8F0FE;\n",
              "      --fill-color: #1967D2;\n",
              "      --hover-bg-color: #E2EBFA;\n",
              "      --hover-fill-color: #174EA6;\n",
              "      --disabled-fill-color: #AAA;\n",
              "      --disabled-bg-color: #DDD;\n",
              "  }\n",
              "\n",
              "  [theme=dark] .colab-df-quickchart {\n",
              "      --bg-color: #3B4455;\n",
              "      --fill-color: #D2E3FC;\n",
              "      --hover-bg-color: #434B5C;\n",
              "      --hover-fill-color: #FFFFFF;\n",
              "      --disabled-bg-color: #3B4455;\n",
              "      --disabled-fill-color: #666;\n",
              "  }\n",
              "\n",
              "  .colab-df-quickchart {\n",
              "    background-color: var(--bg-color);\n",
              "    border: none;\n",
              "    border-radius: 50%;\n",
              "    cursor: pointer;\n",
              "    display: none;\n",
              "    fill: var(--fill-color);\n",
              "    height: 32px;\n",
              "    padding: 0;\n",
              "    width: 32px;\n",
              "  }\n",
              "\n",
              "  .colab-df-quickchart:hover {\n",
              "    background-color: var(--hover-bg-color);\n",
              "    box-shadow: 0 1px 2px rgba(60, 64, 67, 0.3), 0 1px 3px 1px rgba(60, 64, 67, 0.15);\n",
              "    fill: var(--button-hover-fill-color);\n",
              "  }\n",
              "\n",
              "  .colab-df-quickchart-complete:disabled,\n",
              "  .colab-df-quickchart-complete:disabled:hover {\n",
              "    background-color: var(--disabled-bg-color);\n",
              "    fill: var(--disabled-fill-color);\n",
              "    box-shadow: none;\n",
              "  }\n",
              "\n",
              "  .colab-df-spinner {\n",
              "    border: 2px solid var(--fill-color);\n",
              "    border-color: transparent;\n",
              "    border-bottom-color: var(--fill-color);\n",
              "    animation:\n",
              "      spin 1s steps(1) infinite;\n",
              "  }\n",
              "\n",
              "  @keyframes spin {\n",
              "    0% {\n",
              "      border-color: transparent;\n",
              "      border-bottom-color: var(--fill-color);\n",
              "      border-left-color: var(--fill-color);\n",
              "    }\n",
              "    20% {\n",
              "      border-color: transparent;\n",
              "      border-left-color: var(--fill-color);\n",
              "      border-top-color: var(--fill-color);\n",
              "    }\n",
              "    30% {\n",
              "      border-color: transparent;\n",
              "      border-left-color: var(--fill-color);\n",
              "      border-top-color: var(--fill-color);\n",
              "      border-right-color: var(--fill-color);\n",
              "    }\n",
              "    40% {\n",
              "      border-color: transparent;\n",
              "      border-right-color: var(--fill-color);\n",
              "      border-top-color: var(--fill-color);\n",
              "    }\n",
              "    60% {\n",
              "      border-color: transparent;\n",
              "      border-right-color: var(--fill-color);\n",
              "    }\n",
              "    80% {\n",
              "      border-color: transparent;\n",
              "      border-right-color: var(--fill-color);\n",
              "      border-bottom-color: var(--fill-color);\n",
              "    }\n",
              "    90% {\n",
              "      border-color: transparent;\n",
              "      border-bottom-color: var(--fill-color);\n",
              "    }\n",
              "  }\n",
              "</style>\n",
              "\n",
              "      <script>\n",
              "        async function quickchart(key) {\n",
              "          const quickchartButtonEl =\n",
              "            document.querySelector('#' + key + ' button');\n",
              "          quickchartButtonEl.disabled = true;  // To prevent multiple clicks.\n",
              "          quickchartButtonEl.classList.add('colab-df-spinner');\n",
              "          try {\n",
              "            const charts = await google.colab.kernel.invokeFunction(\n",
              "                'suggestCharts', [key], {});\n",
              "          } catch (error) {\n",
              "            console.error('Error during call to suggestCharts:', error);\n",
              "          }\n",
              "          quickchartButtonEl.classList.remove('colab-df-spinner');\n",
              "          quickchartButtonEl.classList.add('colab-df-quickchart-complete');\n",
              "        }\n",
              "        (() => {\n",
              "          let quickchartButtonEl =\n",
              "            document.querySelector('#df-869e462e-2cbd-48e9-a2d9-36bf5f5bd461 button');\n",
              "          quickchartButtonEl.style.display =\n",
              "            google.colab.kernel.accessAllowed ? 'block' : 'none';\n",
              "        })();\n",
              "      </script>\n",
              "    </div>\n",
              "\n",
              "    </div>\n",
              "  </div>\n"
            ],
            "application/vnd.google.colaboratory.intrinsic+json": {
              "type": "dataframe",
              "summary": "{\n  \"name\": \"display(df\",\n  \"rows\": 5,\n  \"fields\": [\n    {\n      \"column\": \"Timestamp\",\n      \"properties\": {\n        \"dtype\": \"object\",\n        \"num_unique_values\": 5,\n        \"samples\": [\n          \"24/07/2025 22:05:52\",\n          \"24/07/2025 22:08:06\",\n          \"24/07/2025 22:06:39\"\n        ],\n        \"semantic_type\": \"\",\n        \"description\": \"\"\n      }\n    },\n    {\n      \"column\": \"Your Academic Stage\",\n      \"properties\": {\n        \"dtype\": \"category\",\n        \"num_unique_values\": 1,\n        \"samples\": [\n          \"undergraduate\"\n        ],\n        \"semantic_type\": \"\",\n        \"description\": \"\"\n      }\n    },\n    {\n      \"column\": \"Peer pressure\",\n      \"properties\": {\n        \"dtype\": \"number\",\n        \"std\": 1,\n        \"min\": 1,\n        \"max\": 4,\n        \"num_unique_values\": 3,\n        \"samples\": [\n          4\n        ],\n        \"semantic_type\": \"\",\n        \"description\": \"\"\n      }\n    },\n    {\n      \"column\": \"Academic pressure from your home\",\n      \"properties\": {\n        \"dtype\": \"number\",\n        \"std\": 1,\n        \"min\": 1,\n        \"max\": 5,\n        \"num_unique_values\": 5,\n        \"samples\": [\n          4\n        ],\n        \"semantic_type\": \"\",\n        \"description\": \"\"\n      }\n    },\n    {\n      \"column\": \"Study Environment\",\n      \"properties\": {\n        \"dtype\": \"category\",\n        \"num_unique_values\": 2,\n        \"samples\": [\n          \"Peaceful\"\n        ],\n        \"semantic_type\": \"\",\n        \"description\": \"\"\n      }\n    },\n    {\n      \"column\": \"What coping strategy you use as a student?\",\n      \"properties\": {\n        \"dtype\": \"category\",\n        \"num_unique_values\": 2,\n        \"samples\": [\n          \"Social support (friends, family)\"\n        ],\n        \"semantic_type\": \"\",\n        \"description\": \"\"\n      }\n    },\n    {\n      \"column\": \"Do you have any bad habits like smoking, drinking on a daily basis?\",\n      \"properties\": {\n        \"dtype\": \"category\",\n        \"num_unique_values\": 1,\n        \"samples\": [\n          \"No\"\n        ],\n        \"semantic_type\": \"\",\n        \"description\": \"\"\n      }\n    },\n    {\n      \"column\": \"What would you rate the academic  competition in your student life\",\n      \"properties\": {\n        \"dtype\": \"number\",\n        \"std\": 0,\n        \"min\": 2,\n        \"max\": 4,\n        \"num_unique_values\": 3,\n        \"samples\": [\n          3\n        ],\n        \"semantic_type\": \"\",\n        \"description\": \"\"\n      }\n    },\n    {\n      \"column\": \"Rate your academic stress index \",\n      \"properties\": {\n        \"dtype\": \"number\",\n        \"std\": 1,\n        \"min\": 3,\n        \"max\": 5,\n        \"num_unique_values\": 3,\n        \"samples\": [\n          5\n        ],\n        \"semantic_type\": \"\",\n        \"description\": \"\"\n      }\n    }\n  ]\n}"
            }
          },
          "metadata": {}
        },
        {
          "output_type": "stream",
          "name": "stdout",
          "text": [
            "<class 'pandas.core.frame.DataFrame'>\n",
            "RangeIndex: 140 entries, 0 to 139\n",
            "Data columns (total 9 columns):\n",
            " #   Column                                                               Non-Null Count  Dtype \n",
            "---  ------                                                               --------------  ----- \n",
            " 0   Timestamp                                                            140 non-null    object\n",
            " 1   Your Academic Stage                                                  140 non-null    object\n",
            " 2   Peer pressure                                                        140 non-null    int64 \n",
            " 3   Academic pressure from your home                                     140 non-null    int64 \n",
            " 4   Study Environment                                                    139 non-null    object\n",
            " 5   What coping strategy you use as a student?                           140 non-null    object\n",
            " 6   Do you have any bad habits like smoking, drinking on a daily basis?  140 non-null    object\n",
            " 7   What would you rate the academic  competition in your student life   140 non-null    int64 \n",
            " 8   Rate your academic stress index                                      140 non-null    int64 \n",
            "dtypes: int64(4), object(5)\n",
            "memory usage: 10.0+ KB\n"
          ]
        },
        {
          "output_type": "display_data",
          "data": {
            "text/plain": [
              "None"
            ]
          },
          "metadata": {}
        }
      ]
    },
    {
      "cell_type": "markdown",
      "source": [],
      "metadata": {
        "id": "mbq2CM1p3Yse"
      }
    },
    {
      "cell_type": "markdown",
      "metadata": {
        "id": "bc2afae3"
      },
      "source": [
        "## Handle missing values\n",
        "\n",
        "### Subtask:\n",
        "Address any missing values in the dataset as identified during the inspection phase.\n"
      ]
    },
    {
      "cell_type": "markdown",
      "metadata": {
        "id": "2aedf49b"
      },
      "source": [
        "**Reasoning**:\n",
        "Fill the missing values in the 'Study Environment' column with 'Unknown' and display the DataFrame info to confirm.\n",
        "\n"
      ]
    },
    {
      "cell_type": "code",
      "metadata": {
        "colab": {
          "base_uri": "https://localhost:8080/",
          "height": 488
        },
        "id": "cb7ecb75",
        "outputId": "5af47e59-9de6-4aac-9754-20dd04bf3723"
      },
      "source": [
        "df['Study Environment'].fillna('Unknown', inplace=True)\n",
        "display(df.info())"
      ],
      "execution_count": null,
      "outputs": [
        {
          "output_type": "stream",
          "name": "stdout",
          "text": [
            "<class 'pandas.core.frame.DataFrame'>\n",
            "RangeIndex: 140 entries, 0 to 139\n",
            "Data columns (total 9 columns):\n",
            " #   Column                                                               Non-Null Count  Dtype \n",
            "---  ------                                                               --------------  ----- \n",
            " 0   Timestamp                                                            140 non-null    object\n",
            " 1   Your Academic Stage                                                  140 non-null    object\n",
            " 2   Peer pressure                                                        140 non-null    int64 \n",
            " 3   Academic pressure from your home                                     140 non-null    int64 \n",
            " 4   Study Environment                                                    140 non-null    object\n",
            " 5   What coping strategy you use as a student?                           140 non-null    object\n",
            " 6   Do you have any bad habits like smoking, drinking on a daily basis?  140 non-null    object\n",
            " 7   What would you rate the academic  competition in your student life   140 non-null    int64 \n",
            " 8   Rate your academic stress index                                      140 non-null    int64 \n",
            "dtypes: int64(4), object(5)\n",
            "memory usage: 10.0+ KB\n"
          ]
        },
        {
          "output_type": "stream",
          "name": "stderr",
          "text": [
            "/tmp/ipython-input-4180077052.py:1: FutureWarning:\n",
            "\n",
            "A value is trying to be set on a copy of a DataFrame or Series through chained assignment using an inplace method.\n",
            "The behavior will change in pandas 3.0. This inplace method will never work because the intermediate object on which we are setting values always behaves as a copy.\n",
            "\n",
            "For example, when doing 'df[col].method(value, inplace=True)', try using 'df.method({col: value}, inplace=True)' or df[col] = df[col].method(value) instead, to perform the operation inplace on the original object.\n",
            "\n",
            "\n",
            "\n"
          ]
        },
        {
          "output_type": "display_data",
          "data": {
            "text/plain": [
              "None"
            ]
          },
          "metadata": {}
        }
      ]
    },
    {
      "cell_type": "markdown",
      "metadata": {
        "id": "8ad537f8"
      },
      "source": [
        "## Generate treemap visualization\n",
        "\n",
        "### Subtask:\n",
        "Create a treemap visualization to represent hierarchical data in the dataset.\n"
      ]
    },
    {
      "cell_type": "markdown",
      "metadata": {
        "id": "82aedda7"
      },
      "source": [
        "**Reasoning**:\n",
        "Import the necessary library and create the treemap visualization using the specified columns and title.\n",
        "\n"
      ]
    },
    {
      "cell_type": "code",
      "metadata": {
        "colab": {
          "base_uri": "https://localhost:8080/",
          "height": 542
        },
        "id": "b9700518",
        "outputId": "f95a1314-7eb6-46bf-a859-7f9c763b2b94"
      },
      "source": [
        "import plotly.express as px\n",
        "\n",
        "fig = px.treemap(df, path=['Your Academic Stage', 'Study Environment', 'What coping strategy you use as a student?'], values='Rate your academic stress index ',\n",
        "                 title='Treemap of Academic Stress Index by Stage, Environment, and Coping Strategy')\n",
        "fig.update_layout(margin = dict(t=40, l=25, r=25, b=25))\n",
        "fig.show()"
      ],
      "execution_count": null,
      "outputs": [
        {
          "output_type": "display_data",
          "data": {
            "text/html": [
              "<html>\n",
              "<head><meta charset=\"utf-8\" /></head>\n",
              "<body>\n",
              "    <div>            <script src=\"https://cdnjs.cloudflare.com/ajax/libs/mathjax/2.7.5/MathJax.js?config=TeX-AMS-MML_SVG\"></script><script type=\"text/javascript\">if (window.MathJax && window.MathJax.Hub && window.MathJax.Hub.Config) {window.MathJax.Hub.Config({SVG: {font: \"STIX-Web\"}});}</script>                <script type=\"text/javascript\">window.PlotlyConfig = {MathJaxConfig: 'local'};</script>\n",
              "        <script charset=\"utf-8\" src=\"https://cdn.plot.ly/plotly-2.35.2.min.js\"></script>                <div id=\"fee28eca-2c72-49c9-9287-d83d52a0d26e\" class=\"plotly-graph-div\" style=\"height:525px; width:100%;\"></div>            <script type=\"text/javascript\">                                    window.PLOTLYENV=window.PLOTLYENV || {};                                    if (document.getElementById(\"fee28eca-2c72-49c9-9287-d83d52a0d26e\")) {                    Plotly.newPlot(                        \"fee28eca-2c72-49c9-9287-d83d52a0d26e\",                        [{\"branchvalues\":\"total\",\"domain\":{\"x\":[0.0,1.0],\"y\":[0.0,1.0]},\"hovertemplate\":\"labels=%{label}\\u003cbr\\u003eRate your academic stress index =%{value}\\u003cbr\\u003eparent=%{parent}\\u003cbr\\u003eid=%{id}\\u003cextra\\u003e\\u003c\\u002fextra\\u003e\",\"ids\":[\"high school\\u002fNoisy\\u002fAnalyze the situation and handle it with intellect\",\"post-graduate\\u002fNoisy\\u002fAnalyze the situation and handle it with intellect\",\"undergraduate\\u002fNoisy\\u002fAnalyze the situation and handle it with intellect\",\"high school\\u002fPeaceful\\u002fAnalyze the situation and handle it with intellect\",\"post-graduate\\u002fPeaceful\\u002fAnalyze the situation and handle it with intellect\",\"undergraduate\\u002fPeaceful\\u002fAnalyze the situation and handle it with intellect\",\"high school\\u002fdisrupted\\u002fAnalyze the situation and handle it with intellect\",\"post-graduate\\u002fdisrupted\\u002fAnalyze the situation and handle it with intellect\",\"undergraduate\\u002fdisrupted\\u002fAnalyze the situation and handle it with intellect\",\"high school\\u002fNoisy\\u002fEmotional breakdown (crying a lot)\",\"undergraduate\\u002fNoisy\\u002fEmotional breakdown (crying a lot)\",\"high school\\u002fPeaceful\\u002fEmotional breakdown (crying a lot)\",\"undergraduate\\u002fPeaceful\\u002fEmotional breakdown (crying a lot)\",\"undergraduate\\u002fUnknown\\u002fEmotional breakdown (crying a lot)\",\"high school\\u002fdisrupted\\u002fEmotional breakdown (crying a lot)\",\"post-graduate\\u002fdisrupted\\u002fEmotional breakdown (crying a lot)\",\"undergraduate\\u002fdisrupted\\u002fEmotional breakdown (crying a lot)\",\"high school\\u002fNoisy\\u002fSocial support (friends, family)\",\"undergraduate\\u002fNoisy\\u002fSocial support (friends, family)\",\"high school\\u002fPeaceful\\u002fSocial support (friends, family)\",\"post-graduate\\u002fPeaceful\\u002fSocial support (friends, family)\",\"undergraduate\\u002fPeaceful\\u002fSocial support (friends, family)\",\"post-graduate\\u002fdisrupted\\u002fSocial support (friends, family)\",\"undergraduate\\u002fdisrupted\\u002fSocial support (friends, family)\",\"high school\\u002fNoisy\",\"post-graduate\\u002fNoisy\",\"undergraduate\\u002fNoisy\",\"high school\\u002fPeaceful\",\"post-graduate\\u002fPeaceful\",\"undergraduate\\u002fPeaceful\",\"undergraduate\\u002fUnknown\",\"high school\\u002fdisrupted\",\"post-graduate\\u002fdisrupted\",\"undergraduate\\u002fdisrupted\",\"high school\",\"post-graduate\",\"undergraduate\"],\"labels\":[\"Analyze the situation and handle it with intellect\",\"Analyze the situation and handle it with intellect\",\"Analyze the situation and handle it with intellect\",\"Analyze the situation and handle it with intellect\",\"Analyze the situation and handle it with intellect\",\"Analyze the situation and handle it with intellect\",\"Analyze the situation and handle it with intellect\",\"Analyze the situation and handle it with intellect\",\"Analyze the situation and handle it with intellect\",\"Emotional breakdown (crying a lot)\",\"Emotional breakdown (crying a lot)\",\"Emotional breakdown (crying a lot)\",\"Emotional breakdown (crying a lot)\",\"Emotional breakdown (crying a lot)\",\"Emotional breakdown (crying a lot)\",\"Emotional breakdown (crying a lot)\",\"Emotional breakdown (crying a lot)\",\"Social support (friends, family)\",\"Social support (friends, family)\",\"Social support (friends, family)\",\"Social support (friends, family)\",\"Social support (friends, family)\",\"Social support (friends, family)\",\"Social support (friends, family)\",\"Noisy\",\"Noisy\",\"Noisy\",\"Peaceful\",\"Peaceful\",\"Peaceful\",\"Unknown\",\"disrupted\",\"disrupted\",\"disrupted\",\"high school\",\"post-graduate\",\"undergraduate\"],\"name\":\"\",\"parents\":[\"high school\\u002fNoisy\",\"post-graduate\\u002fNoisy\",\"undergraduate\\u002fNoisy\",\"high school\\u002fPeaceful\",\"post-graduate\\u002fPeaceful\",\"undergraduate\\u002fPeaceful\",\"high school\\u002fdisrupted\",\"post-graduate\\u002fdisrupted\",\"undergraduate\\u002fdisrupted\",\"high school\\u002fNoisy\",\"undergraduate\\u002fNoisy\",\"high school\\u002fPeaceful\",\"undergraduate\\u002fPeaceful\",\"undergraduate\\u002fUnknown\",\"high school\\u002fdisrupted\",\"post-graduate\\u002fdisrupted\",\"undergraduate\\u002fdisrupted\",\"high school\\u002fNoisy\",\"undergraduate\\u002fNoisy\",\"high school\\u002fPeaceful\",\"post-graduate\\u002fPeaceful\",\"undergraduate\\u002fPeaceful\",\"post-graduate\\u002fdisrupted\",\"undergraduate\\u002fdisrupted\",\"high school\",\"post-graduate\",\"undergraduate\",\"high school\",\"post-graduate\",\"undergraduate\",\"undergraduate\",\"high school\",\"post-graduate\",\"undergraduate\",\"\",\"\",\"\"],\"values\":[18,7,48,37,13,127,4,4,59,26,17,9,15,4,10,4,42,4,3,3,8,29,5,25,48,7,68,49,21,171,4,14,13,126,111,41,369],\"type\":\"treemap\"}],                        {\"template\":{\"data\":{\"histogram2dcontour\":[{\"type\":\"histogram2dcontour\",\"colorbar\":{\"outlinewidth\":0,\"ticks\":\"\"},\"colorscale\":[[0.0,\"#0d0887\"],[0.1111111111111111,\"#46039f\"],[0.2222222222222222,\"#7201a8\"],[0.3333333333333333,\"#9c179e\"],[0.4444444444444444,\"#bd3786\"],[0.5555555555555556,\"#d8576b\"],[0.6666666666666666,\"#ed7953\"],[0.7777777777777778,\"#fb9f3a\"],[0.8888888888888888,\"#fdca26\"],[1.0,\"#f0f921\"]]}],\"choropleth\":[{\"type\":\"choropleth\",\"colorbar\":{\"outlinewidth\":0,\"ticks\":\"\"}}],\"histogram2d\":[{\"type\":\"histogram2d\",\"colorbar\":{\"outlinewidth\":0,\"ticks\":\"\"},\"colorscale\":[[0.0,\"#0d0887\"],[0.1111111111111111,\"#46039f\"],[0.2222222222222222,\"#7201a8\"],[0.3333333333333333,\"#9c179e\"],[0.4444444444444444,\"#bd3786\"],[0.5555555555555556,\"#d8576b\"],[0.6666666666666666,\"#ed7953\"],[0.7777777777777778,\"#fb9f3a\"],[0.8888888888888888,\"#fdca26\"],[1.0,\"#f0f921\"]]}],\"heatmap\":[{\"type\":\"heatmap\",\"colorbar\":{\"outlinewidth\":0,\"ticks\":\"\"},\"colorscale\":[[0.0,\"#0d0887\"],[0.1111111111111111,\"#46039f\"],[0.2222222222222222,\"#7201a8\"],[0.3333333333333333,\"#9c179e\"],[0.4444444444444444,\"#bd3786\"],[0.5555555555555556,\"#d8576b\"],[0.6666666666666666,\"#ed7953\"],[0.7777777777777778,\"#fb9f3a\"],[0.8888888888888888,\"#fdca26\"],[1.0,\"#f0f921\"]]}],\"heatmapgl\":[{\"type\":\"heatmapgl\",\"colorbar\":{\"outlinewidth\":0,\"ticks\":\"\"},\"colorscale\":[[0.0,\"#0d0887\"],[0.1111111111111111,\"#46039f\"],[0.2222222222222222,\"#7201a8\"],[0.3333333333333333,\"#9c179e\"],[0.4444444444444444,\"#bd3786\"],[0.5555555555555556,\"#d8576b\"],[0.6666666666666666,\"#ed7953\"],[0.7777777777777778,\"#fb9f3a\"],[0.8888888888888888,\"#fdca26\"],[1.0,\"#f0f921\"]]}],\"contourcarpet\":[{\"type\":\"contourcarpet\",\"colorbar\":{\"outlinewidth\":0,\"ticks\":\"\"}}],\"contour\":[{\"type\":\"contour\",\"colorbar\":{\"outlinewidth\":0,\"ticks\":\"\"},\"colorscale\":[[0.0,\"#0d0887\"],[0.1111111111111111,\"#46039f\"],[0.2222222222222222,\"#7201a8\"],[0.3333333333333333,\"#9c179e\"],[0.4444444444444444,\"#bd3786\"],[0.5555555555555556,\"#d8576b\"],[0.6666666666666666,\"#ed7953\"],[0.7777777777777778,\"#fb9f3a\"],[0.8888888888888888,\"#fdca26\"],[1.0,\"#f0f921\"]]}],\"surface\":[{\"type\":\"surface\",\"colorbar\":{\"outlinewidth\":0,\"ticks\":\"\"},\"colorscale\":[[0.0,\"#0d0887\"],[0.1111111111111111,\"#46039f\"],[0.2222222222222222,\"#7201a8\"],[0.3333333333333333,\"#9c179e\"],[0.4444444444444444,\"#bd3786\"],[0.5555555555555556,\"#d8576b\"],[0.6666666666666666,\"#ed7953\"],[0.7777777777777778,\"#fb9f3a\"],[0.8888888888888888,\"#fdca26\"],[1.0,\"#f0f921\"]]}],\"mesh3d\":[{\"type\":\"mesh3d\",\"colorbar\":{\"outlinewidth\":0,\"ticks\":\"\"}}],\"scatter\":[{\"fillpattern\":{\"fillmode\":\"overlay\",\"size\":10,\"solidity\":0.2},\"type\":\"scatter\"}],\"parcoords\":[{\"type\":\"parcoords\",\"line\":{\"colorbar\":{\"outlinewidth\":0,\"ticks\":\"\"}}}],\"scatterpolargl\":[{\"type\":\"scatterpolargl\",\"marker\":{\"colorbar\":{\"outlinewidth\":0,\"ticks\":\"\"}}}],\"bar\":[{\"error_x\":{\"color\":\"#2a3f5f\"},\"error_y\":{\"color\":\"#2a3f5f\"},\"marker\":{\"line\":{\"color\":\"#E5ECF6\",\"width\":0.5},\"pattern\":{\"fillmode\":\"overlay\",\"size\":10,\"solidity\":0.2}},\"type\":\"bar\"}],\"scattergeo\":[{\"type\":\"scattergeo\",\"marker\":{\"colorbar\":{\"outlinewidth\":0,\"ticks\":\"\"}}}],\"scatterpolar\":[{\"type\":\"scatterpolar\",\"marker\":{\"colorbar\":{\"outlinewidth\":0,\"ticks\":\"\"}}}],\"histogram\":[{\"marker\":{\"pattern\":{\"fillmode\":\"overlay\",\"size\":10,\"solidity\":0.2}},\"type\":\"histogram\"}],\"scattergl\":[{\"type\":\"scattergl\",\"marker\":{\"colorbar\":{\"outlinewidth\":0,\"ticks\":\"\"}}}],\"scatter3d\":[{\"type\":\"scatter3d\",\"line\":{\"colorbar\":{\"outlinewidth\":0,\"ticks\":\"\"}},\"marker\":{\"colorbar\":{\"outlinewidth\":0,\"ticks\":\"\"}}}],\"scattermapbox\":[{\"type\":\"scattermapbox\",\"marker\":{\"colorbar\":{\"outlinewidth\":0,\"ticks\":\"\"}}}],\"scatterternary\":[{\"type\":\"scatterternary\",\"marker\":{\"colorbar\":{\"outlinewidth\":0,\"ticks\":\"\"}}}],\"scattercarpet\":[{\"type\":\"scattercarpet\",\"marker\":{\"colorbar\":{\"outlinewidth\":0,\"ticks\":\"\"}}}],\"carpet\":[{\"aaxis\":{\"endlinecolor\":\"#2a3f5f\",\"gridcolor\":\"white\",\"linecolor\":\"white\",\"minorgridcolor\":\"white\",\"startlinecolor\":\"#2a3f5f\"},\"baxis\":{\"endlinecolor\":\"#2a3f5f\",\"gridcolor\":\"white\",\"linecolor\":\"white\",\"minorgridcolor\":\"white\",\"startlinecolor\":\"#2a3f5f\"},\"type\":\"carpet\"}],\"table\":[{\"cells\":{\"fill\":{\"color\":\"#EBF0F8\"},\"line\":{\"color\":\"white\"}},\"header\":{\"fill\":{\"color\":\"#C8D4E3\"},\"line\":{\"color\":\"white\"}},\"type\":\"table\"}],\"barpolar\":[{\"marker\":{\"line\":{\"color\":\"#E5ECF6\",\"width\":0.5},\"pattern\":{\"fillmode\":\"overlay\",\"size\":10,\"solidity\":0.2}},\"type\":\"barpolar\"}],\"pie\":[{\"automargin\":true,\"type\":\"pie\"}]},\"layout\":{\"autotypenumbers\":\"strict\",\"colorway\":[\"#636efa\",\"#EF553B\",\"#00cc96\",\"#ab63fa\",\"#FFA15A\",\"#19d3f3\",\"#FF6692\",\"#B6E880\",\"#FF97FF\",\"#FECB52\"],\"font\":{\"color\":\"#2a3f5f\"},\"hovermode\":\"closest\",\"hoverlabel\":{\"align\":\"left\"},\"paper_bgcolor\":\"white\",\"plot_bgcolor\":\"#E5ECF6\",\"polar\":{\"bgcolor\":\"#E5ECF6\",\"angularaxis\":{\"gridcolor\":\"white\",\"linecolor\":\"white\",\"ticks\":\"\"},\"radialaxis\":{\"gridcolor\":\"white\",\"linecolor\":\"white\",\"ticks\":\"\"}},\"ternary\":{\"bgcolor\":\"#E5ECF6\",\"aaxis\":{\"gridcolor\":\"white\",\"linecolor\":\"white\",\"ticks\":\"\"},\"baxis\":{\"gridcolor\":\"white\",\"linecolor\":\"white\",\"ticks\":\"\"},\"caxis\":{\"gridcolor\":\"white\",\"linecolor\":\"white\",\"ticks\":\"\"}},\"coloraxis\":{\"colorbar\":{\"outlinewidth\":0,\"ticks\":\"\"}},\"colorscale\":{\"sequential\":[[0.0,\"#0d0887\"],[0.1111111111111111,\"#46039f\"],[0.2222222222222222,\"#7201a8\"],[0.3333333333333333,\"#9c179e\"],[0.4444444444444444,\"#bd3786\"],[0.5555555555555556,\"#d8576b\"],[0.6666666666666666,\"#ed7953\"],[0.7777777777777778,\"#fb9f3a\"],[0.8888888888888888,\"#fdca26\"],[1.0,\"#f0f921\"]],\"sequentialminus\":[[0.0,\"#0d0887\"],[0.1111111111111111,\"#46039f\"],[0.2222222222222222,\"#7201a8\"],[0.3333333333333333,\"#9c179e\"],[0.4444444444444444,\"#bd3786\"],[0.5555555555555556,\"#d8576b\"],[0.6666666666666666,\"#ed7953\"],[0.7777777777777778,\"#fb9f3a\"],[0.8888888888888888,\"#fdca26\"],[1.0,\"#f0f921\"]],\"diverging\":[[0,\"#8e0152\"],[0.1,\"#c51b7d\"],[0.2,\"#de77ae\"],[0.3,\"#f1b6da\"],[0.4,\"#fde0ef\"],[0.5,\"#f7f7f7\"],[0.6,\"#e6f5d0\"],[0.7,\"#b8e186\"],[0.8,\"#7fbc41\"],[0.9,\"#4d9221\"],[1,\"#276419\"]]},\"xaxis\":{\"gridcolor\":\"white\",\"linecolor\":\"white\",\"ticks\":\"\",\"title\":{\"standoff\":15},\"zerolinecolor\":\"white\",\"automargin\":true,\"zerolinewidth\":2},\"yaxis\":{\"gridcolor\":\"white\",\"linecolor\":\"white\",\"ticks\":\"\",\"title\":{\"standoff\":15},\"zerolinecolor\":\"white\",\"automargin\":true,\"zerolinewidth\":2},\"scene\":{\"xaxis\":{\"backgroundcolor\":\"#E5ECF6\",\"gridcolor\":\"white\",\"linecolor\":\"white\",\"showbackground\":true,\"ticks\":\"\",\"zerolinecolor\":\"white\",\"gridwidth\":2},\"yaxis\":{\"backgroundcolor\":\"#E5ECF6\",\"gridcolor\":\"white\",\"linecolor\":\"white\",\"showbackground\":true,\"ticks\":\"\",\"zerolinecolor\":\"white\",\"gridwidth\":2},\"zaxis\":{\"backgroundcolor\":\"#E5ECF6\",\"gridcolor\":\"white\",\"linecolor\":\"white\",\"showbackground\":true,\"ticks\":\"\",\"zerolinecolor\":\"white\",\"gridwidth\":2}},\"shapedefaults\":{\"line\":{\"color\":\"#2a3f5f\"}},\"annotationdefaults\":{\"arrowcolor\":\"#2a3f5f\",\"arrowhead\":0,\"arrowwidth\":1},\"geo\":{\"bgcolor\":\"white\",\"landcolor\":\"#E5ECF6\",\"subunitcolor\":\"white\",\"showland\":true,\"showlakes\":true,\"lakecolor\":\"white\"},\"title\":{\"x\":0.05},\"mapbox\":{\"style\":\"light\"}}},\"legend\":{\"tracegroupgap\":0},\"title\":{\"text\":\"Treemap of Academic Stress Index by Stage, Environment, and Coping Strategy\"},\"margin\":{\"t\":40,\"l\":25,\"r\":25,\"b\":25}},                        {\"responsive\": true}                    ).then(function(){\n",
              "                            \n",
              "var gd = document.getElementById('fee28eca-2c72-49c9-9287-d83d52a0d26e');\n",
              "var x = new MutationObserver(function (mutations, observer) {{\n",
              "        var display = window.getComputedStyle(gd).display;\n",
              "        if (!display || display === 'none') {{\n",
              "            console.log([gd, 'removed!']);\n",
              "            Plotly.purge(gd);\n",
              "            observer.disconnect();\n",
              "        }}\n",
              "}});\n",
              "\n",
              "// Listen for the removal of the full notebook cells\n",
              "var notebookContainer = gd.closest('#notebook-container');\n",
              "if (notebookContainer) {{\n",
              "    x.observe(notebookContainer, {childList: true});\n",
              "}}\n",
              "\n",
              "// Listen for the clearing of the current output cell\n",
              "var outputEl = gd.closest('.output');\n",
              "if (outputEl) {{\n",
              "    x.observe(outputEl, {childList: true});\n",
              "}}\n",
              "\n",
              "                        })                };                            </script>        </div>\n",
              "</body>\n",
              "</html>"
            ]
          },
          "metadata": {}
        }
      ]
    },
    {
      "cell_type": "markdown",
      "metadata": {
        "id": "fd44802b"
      },
      "source": [
        "Based on the treemap visualization, here are some inferences:\n",
        "\n",
        "The treemap shows a hierarchical breakdown of the 'Rate your academic stress index' by 'Your Academic Stage', 'Study Environment', and 'What coping strategy you use as a student?'.\n",
        "You can see the distribution of the academic stress index across different categories. For example, you can observe which academic stages, study environments, and coping strategies are associated with higher or lower stress index values.\n",
        "The size of each rectangle in the treemap represents the sum of the 'Rate your academic stress index' for that particular category or combination of categories. Larger rectangles indicate a higher aggregate stress index.\n",
        "By hovering over or clicking on the rectangles, you can get more detailed information about the specific categories and their corresponding stress index values.\n",
        "To provide more specific inferences, I would need to analyze the visual output of the treemap and"
      ]
    },
    {
      "cell_type": "markdown",
      "metadata": {
        "id": "bf57d693"
      },
      "source": [
        "## Generate sunburst visualization\n",
        "\n",
        "### Subtask:\n",
        "Create a sunburst visualization to show hierarchical data in a radial layout.\n"
      ]
    },
    {
      "cell_type": "markdown",
      "metadata": {
        "id": "720754fa"
      },
      "source": [
        "**Reasoning**:\n",
        "Generate a sunburst chart using plotly.express with the specified hierarchical path and values and set the title.\n",
        "\n"
      ]
    },
    {
      "cell_type": "code",
      "metadata": {
        "colab": {
          "base_uri": "https://localhost:8080/",
          "height": 542
        },
        "id": "7bed18c5",
        "outputId": "6c46e43e-fbd9-4e7d-eb51-283b6fecc29a"
      },
      "source": [
        "fig = px.sunburst(df, path=['Your Academic Stage', 'Study Environment', 'What coping strategy you use as a student?'], values='Rate your academic stress index ',\n",
        "                  title='Sunburst Chart of Academic Stress Index by Stage, Environment, and Coping Strategy')\n",
        "fig.show()"
      ],
      "execution_count": null,
      "outputs": [
        {
          "output_type": "display_data",
          "data": {
            "text/html": [
              "<html>\n",
              "<head><meta charset=\"utf-8\" /></head>\n",
              "<body>\n",
              "    <div>            <script src=\"https://cdnjs.cloudflare.com/ajax/libs/mathjax/2.7.5/MathJax.js?config=TeX-AMS-MML_SVG\"></script><script type=\"text/javascript\">if (window.MathJax && window.MathJax.Hub && window.MathJax.Hub.Config) {window.MathJax.Hub.Config({SVG: {font: \"STIX-Web\"}});}</script>                <script type=\"text/javascript\">window.PlotlyConfig = {MathJaxConfig: 'local'};</script>\n",
              "        <script charset=\"utf-8\" src=\"https://cdn.plot.ly/plotly-2.35.2.min.js\"></script>                <div id=\"cf5235ac-1376-4e60-b938-0ddbdeba677f\" class=\"plotly-graph-div\" style=\"height:525px; width:100%;\"></div>            <script type=\"text/javascript\">                                    window.PLOTLYENV=window.PLOTLYENV || {};                                    if (document.getElementById(\"cf5235ac-1376-4e60-b938-0ddbdeba677f\")) {                    Plotly.newPlot(                        \"cf5235ac-1376-4e60-b938-0ddbdeba677f\",                        [{\"branchvalues\":\"total\",\"domain\":{\"x\":[0.0,1.0],\"y\":[0.0,1.0]},\"hovertemplate\":\"labels=%{label}\\u003cbr\\u003eRate your academic stress index =%{value}\\u003cbr\\u003eparent=%{parent}\\u003cbr\\u003eid=%{id}\\u003cextra\\u003e\\u003c\\u002fextra\\u003e\",\"ids\":[\"high school\\u002fNoisy\\u002fAnalyze the situation and handle it with intellect\",\"post-graduate\\u002fNoisy\\u002fAnalyze the situation and handle it with intellect\",\"undergraduate\\u002fNoisy\\u002fAnalyze the situation and handle it with intellect\",\"high school\\u002fPeaceful\\u002fAnalyze the situation and handle it with intellect\",\"post-graduate\\u002fPeaceful\\u002fAnalyze the situation and handle it with intellect\",\"undergraduate\\u002fPeaceful\\u002fAnalyze the situation and handle it with intellect\",\"high school\\u002fdisrupted\\u002fAnalyze the situation and handle it with intellect\",\"post-graduate\\u002fdisrupted\\u002fAnalyze the situation and handle it with intellect\",\"undergraduate\\u002fdisrupted\\u002fAnalyze the situation and handle it with intellect\",\"high school\\u002fNoisy\\u002fEmotional breakdown (crying a lot)\",\"undergraduate\\u002fNoisy\\u002fEmotional breakdown (crying a lot)\",\"high school\\u002fPeaceful\\u002fEmotional breakdown (crying a lot)\",\"undergraduate\\u002fPeaceful\\u002fEmotional breakdown (crying a lot)\",\"undergraduate\\u002fUnknown\\u002fEmotional breakdown (crying a lot)\",\"high school\\u002fdisrupted\\u002fEmotional breakdown (crying a lot)\",\"post-graduate\\u002fdisrupted\\u002fEmotional breakdown (crying a lot)\",\"undergraduate\\u002fdisrupted\\u002fEmotional breakdown (crying a lot)\",\"high school\\u002fNoisy\\u002fSocial support (friends, family)\",\"undergraduate\\u002fNoisy\\u002fSocial support (friends, family)\",\"high school\\u002fPeaceful\\u002fSocial support (friends, family)\",\"post-graduate\\u002fPeaceful\\u002fSocial support (friends, family)\",\"undergraduate\\u002fPeaceful\\u002fSocial support (friends, family)\",\"post-graduate\\u002fdisrupted\\u002fSocial support (friends, family)\",\"undergraduate\\u002fdisrupted\\u002fSocial support (friends, family)\",\"high school\\u002fNoisy\",\"post-graduate\\u002fNoisy\",\"undergraduate\\u002fNoisy\",\"high school\\u002fPeaceful\",\"post-graduate\\u002fPeaceful\",\"undergraduate\\u002fPeaceful\",\"undergraduate\\u002fUnknown\",\"high school\\u002fdisrupted\",\"post-graduate\\u002fdisrupted\",\"undergraduate\\u002fdisrupted\",\"high school\",\"post-graduate\",\"undergraduate\"],\"labels\":[\"Analyze the situation and handle it with intellect\",\"Analyze the situation and handle it with intellect\",\"Analyze the situation and handle it with intellect\",\"Analyze the situation and handle it with intellect\",\"Analyze the situation and handle it with intellect\",\"Analyze the situation and handle it with intellect\",\"Analyze the situation and handle it with intellect\",\"Analyze the situation and handle it with intellect\",\"Analyze the situation and handle it with intellect\",\"Emotional breakdown (crying a lot)\",\"Emotional breakdown (crying a lot)\",\"Emotional breakdown (crying a lot)\",\"Emotional breakdown (crying a lot)\",\"Emotional breakdown (crying a lot)\",\"Emotional breakdown (crying a lot)\",\"Emotional breakdown (crying a lot)\",\"Emotional breakdown (crying a lot)\",\"Social support (friends, family)\",\"Social support (friends, family)\",\"Social support (friends, family)\",\"Social support (friends, family)\",\"Social support (friends, family)\",\"Social support (friends, family)\",\"Social support (friends, family)\",\"Noisy\",\"Noisy\",\"Noisy\",\"Peaceful\",\"Peaceful\",\"Peaceful\",\"Unknown\",\"disrupted\",\"disrupted\",\"disrupted\",\"high school\",\"post-graduate\",\"undergraduate\"],\"name\":\"\",\"parents\":[\"high school\\u002fNoisy\",\"post-graduate\\u002fNoisy\",\"undergraduate\\u002fNoisy\",\"high school\\u002fPeaceful\",\"post-graduate\\u002fPeaceful\",\"undergraduate\\u002fPeaceful\",\"high school\\u002fdisrupted\",\"post-graduate\\u002fdisrupted\",\"undergraduate\\u002fdisrupted\",\"high school\\u002fNoisy\",\"undergraduate\\u002fNoisy\",\"high school\\u002fPeaceful\",\"undergraduate\\u002fPeaceful\",\"undergraduate\\u002fUnknown\",\"high school\\u002fdisrupted\",\"post-graduate\\u002fdisrupted\",\"undergraduate\\u002fdisrupted\",\"high school\\u002fNoisy\",\"undergraduate\\u002fNoisy\",\"high school\\u002fPeaceful\",\"post-graduate\\u002fPeaceful\",\"undergraduate\\u002fPeaceful\",\"post-graduate\\u002fdisrupted\",\"undergraduate\\u002fdisrupted\",\"high school\",\"post-graduate\",\"undergraduate\",\"high school\",\"post-graduate\",\"undergraduate\",\"undergraduate\",\"high school\",\"post-graduate\",\"undergraduate\",\"\",\"\",\"\"],\"values\":[18,7,48,37,13,127,4,4,59,26,17,9,15,4,10,4,42,4,3,3,8,29,5,25,48,7,68,49,21,171,4,14,13,126,111,41,369],\"type\":\"sunburst\"}],                        {\"template\":{\"data\":{\"histogram2dcontour\":[{\"type\":\"histogram2dcontour\",\"colorbar\":{\"outlinewidth\":0,\"ticks\":\"\"},\"colorscale\":[[0.0,\"#0d0887\"],[0.1111111111111111,\"#46039f\"],[0.2222222222222222,\"#7201a8\"],[0.3333333333333333,\"#9c179e\"],[0.4444444444444444,\"#bd3786\"],[0.5555555555555556,\"#d8576b\"],[0.6666666666666666,\"#ed7953\"],[0.7777777777777778,\"#fb9f3a\"],[0.8888888888888888,\"#fdca26\"],[1.0,\"#f0f921\"]]}],\"choropleth\":[{\"type\":\"choropleth\",\"colorbar\":{\"outlinewidth\":0,\"ticks\":\"\"}}],\"histogram2d\":[{\"type\":\"histogram2d\",\"colorbar\":{\"outlinewidth\":0,\"ticks\":\"\"},\"colorscale\":[[0.0,\"#0d0887\"],[0.1111111111111111,\"#46039f\"],[0.2222222222222222,\"#7201a8\"],[0.3333333333333333,\"#9c179e\"],[0.4444444444444444,\"#bd3786\"],[0.5555555555555556,\"#d8576b\"],[0.6666666666666666,\"#ed7953\"],[0.7777777777777778,\"#fb9f3a\"],[0.8888888888888888,\"#fdca26\"],[1.0,\"#f0f921\"]]}],\"heatmap\":[{\"type\":\"heatmap\",\"colorbar\":{\"outlinewidth\":0,\"ticks\":\"\"},\"colorscale\":[[0.0,\"#0d0887\"],[0.1111111111111111,\"#46039f\"],[0.2222222222222222,\"#7201a8\"],[0.3333333333333333,\"#9c179e\"],[0.4444444444444444,\"#bd3786\"],[0.5555555555555556,\"#d8576b\"],[0.6666666666666666,\"#ed7953\"],[0.7777777777777778,\"#fb9f3a\"],[0.8888888888888888,\"#fdca26\"],[1.0,\"#f0f921\"]]}],\"heatmapgl\":[{\"type\":\"heatmapgl\",\"colorbar\":{\"outlinewidth\":0,\"ticks\":\"\"},\"colorscale\":[[0.0,\"#0d0887\"],[0.1111111111111111,\"#46039f\"],[0.2222222222222222,\"#7201a8\"],[0.3333333333333333,\"#9c179e\"],[0.4444444444444444,\"#bd3786\"],[0.5555555555555556,\"#d8576b\"],[0.6666666666666666,\"#ed7953\"],[0.7777777777777778,\"#fb9f3a\"],[0.8888888888888888,\"#fdca26\"],[1.0,\"#f0f921\"]]}],\"contourcarpet\":[{\"type\":\"contourcarpet\",\"colorbar\":{\"outlinewidth\":0,\"ticks\":\"\"}}],\"contour\":[{\"type\":\"contour\",\"colorbar\":{\"outlinewidth\":0,\"ticks\":\"\"},\"colorscale\":[[0.0,\"#0d0887\"],[0.1111111111111111,\"#46039f\"],[0.2222222222222222,\"#7201a8\"],[0.3333333333333333,\"#9c179e\"],[0.4444444444444444,\"#bd3786\"],[0.5555555555555556,\"#d8576b\"],[0.6666666666666666,\"#ed7953\"],[0.7777777777777778,\"#fb9f3a\"],[0.8888888888888888,\"#fdca26\"],[1.0,\"#f0f921\"]]}],\"surface\":[{\"type\":\"surface\",\"colorbar\":{\"outlinewidth\":0,\"ticks\":\"\"},\"colorscale\":[[0.0,\"#0d0887\"],[0.1111111111111111,\"#46039f\"],[0.2222222222222222,\"#7201a8\"],[0.3333333333333333,\"#9c179e\"],[0.4444444444444444,\"#bd3786\"],[0.5555555555555556,\"#d8576b\"],[0.6666666666666666,\"#ed7953\"],[0.7777777777777778,\"#fb9f3a\"],[0.8888888888888888,\"#fdca26\"],[1.0,\"#f0f921\"]]}],\"mesh3d\":[{\"type\":\"mesh3d\",\"colorbar\":{\"outlinewidth\":0,\"ticks\":\"\"}}],\"scatter\":[{\"fillpattern\":{\"fillmode\":\"overlay\",\"size\":10,\"solidity\":0.2},\"type\":\"scatter\"}],\"parcoords\":[{\"type\":\"parcoords\",\"line\":{\"colorbar\":{\"outlinewidth\":0,\"ticks\":\"\"}}}],\"scatterpolargl\":[{\"type\":\"scatterpolargl\",\"marker\":{\"colorbar\":{\"outlinewidth\":0,\"ticks\":\"\"}}}],\"bar\":[{\"error_x\":{\"color\":\"#2a3f5f\"},\"error_y\":{\"color\":\"#2a3f5f\"},\"marker\":{\"line\":{\"color\":\"#E5ECF6\",\"width\":0.5},\"pattern\":{\"fillmode\":\"overlay\",\"size\":10,\"solidity\":0.2}},\"type\":\"bar\"}],\"scattergeo\":[{\"type\":\"scattergeo\",\"marker\":{\"colorbar\":{\"outlinewidth\":0,\"ticks\":\"\"}}}],\"scatterpolar\":[{\"type\":\"scatterpolar\",\"marker\":{\"colorbar\":{\"outlinewidth\":0,\"ticks\":\"\"}}}],\"histogram\":[{\"marker\":{\"pattern\":{\"fillmode\":\"overlay\",\"size\":10,\"solidity\":0.2}},\"type\":\"histogram\"}],\"scattergl\":[{\"type\":\"scattergl\",\"marker\":{\"colorbar\":{\"outlinewidth\":0,\"ticks\":\"\"}}}],\"scatter3d\":[{\"type\":\"scatter3d\",\"line\":{\"colorbar\":{\"outlinewidth\":0,\"ticks\":\"\"}},\"marker\":{\"colorbar\":{\"outlinewidth\":0,\"ticks\":\"\"}}}],\"scattermapbox\":[{\"type\":\"scattermapbox\",\"marker\":{\"colorbar\":{\"outlinewidth\":0,\"ticks\":\"\"}}}],\"scatterternary\":[{\"type\":\"scatterternary\",\"marker\":{\"colorbar\":{\"outlinewidth\":0,\"ticks\":\"\"}}}],\"scattercarpet\":[{\"type\":\"scattercarpet\",\"marker\":{\"colorbar\":{\"outlinewidth\":0,\"ticks\":\"\"}}}],\"carpet\":[{\"aaxis\":{\"endlinecolor\":\"#2a3f5f\",\"gridcolor\":\"white\",\"linecolor\":\"white\",\"minorgridcolor\":\"white\",\"startlinecolor\":\"#2a3f5f\"},\"baxis\":{\"endlinecolor\":\"#2a3f5f\",\"gridcolor\":\"white\",\"linecolor\":\"white\",\"minorgridcolor\":\"white\",\"startlinecolor\":\"#2a3f5f\"},\"type\":\"carpet\"}],\"table\":[{\"cells\":{\"fill\":{\"color\":\"#EBF0F8\"},\"line\":{\"color\":\"white\"}},\"header\":{\"fill\":{\"color\":\"#C8D4E3\"},\"line\":{\"color\":\"white\"}},\"type\":\"table\"}],\"barpolar\":[{\"marker\":{\"line\":{\"color\":\"#E5ECF6\",\"width\":0.5},\"pattern\":{\"fillmode\":\"overlay\",\"size\":10,\"solidity\":0.2}},\"type\":\"barpolar\"}],\"pie\":[{\"automargin\":true,\"type\":\"pie\"}]},\"layout\":{\"autotypenumbers\":\"strict\",\"colorway\":[\"#636efa\",\"#EF553B\",\"#00cc96\",\"#ab63fa\",\"#FFA15A\",\"#19d3f3\",\"#FF6692\",\"#B6E880\",\"#FF97FF\",\"#FECB52\"],\"font\":{\"color\":\"#2a3f5f\"},\"hovermode\":\"closest\",\"hoverlabel\":{\"align\":\"left\"},\"paper_bgcolor\":\"white\",\"plot_bgcolor\":\"#E5ECF6\",\"polar\":{\"bgcolor\":\"#E5ECF6\",\"angularaxis\":{\"gridcolor\":\"white\",\"linecolor\":\"white\",\"ticks\":\"\"},\"radialaxis\":{\"gridcolor\":\"white\",\"linecolor\":\"white\",\"ticks\":\"\"}},\"ternary\":{\"bgcolor\":\"#E5ECF6\",\"aaxis\":{\"gridcolor\":\"white\",\"linecolor\":\"white\",\"ticks\":\"\"},\"baxis\":{\"gridcolor\":\"white\",\"linecolor\":\"white\",\"ticks\":\"\"},\"caxis\":{\"gridcolor\":\"white\",\"linecolor\":\"white\",\"ticks\":\"\"}},\"coloraxis\":{\"colorbar\":{\"outlinewidth\":0,\"ticks\":\"\"}},\"colorscale\":{\"sequential\":[[0.0,\"#0d0887\"],[0.1111111111111111,\"#46039f\"],[0.2222222222222222,\"#7201a8\"],[0.3333333333333333,\"#9c179e\"],[0.4444444444444444,\"#bd3786\"],[0.5555555555555556,\"#d8576b\"],[0.6666666666666666,\"#ed7953\"],[0.7777777777777778,\"#fb9f3a\"],[0.8888888888888888,\"#fdca26\"],[1.0,\"#f0f921\"]],\"sequentialminus\":[[0.0,\"#0d0887\"],[0.1111111111111111,\"#46039f\"],[0.2222222222222222,\"#7201a8\"],[0.3333333333333333,\"#9c179e\"],[0.4444444444444444,\"#bd3786\"],[0.5555555555555556,\"#d8576b\"],[0.6666666666666666,\"#ed7953\"],[0.7777777777777778,\"#fb9f3a\"],[0.8888888888888888,\"#fdca26\"],[1.0,\"#f0f921\"]],\"diverging\":[[0,\"#8e0152\"],[0.1,\"#c51b7d\"],[0.2,\"#de77ae\"],[0.3,\"#f1b6da\"],[0.4,\"#fde0ef\"],[0.5,\"#f7f7f7\"],[0.6,\"#e6f5d0\"],[0.7,\"#b8e186\"],[0.8,\"#7fbc41\"],[0.9,\"#4d9221\"],[1,\"#276419\"]]},\"xaxis\":{\"gridcolor\":\"white\",\"linecolor\":\"white\",\"ticks\":\"\",\"title\":{\"standoff\":15},\"zerolinecolor\":\"white\",\"automargin\":true,\"zerolinewidth\":2},\"yaxis\":{\"gridcolor\":\"white\",\"linecolor\":\"white\",\"ticks\":\"\",\"title\":{\"standoff\":15},\"zerolinecolor\":\"white\",\"automargin\":true,\"zerolinewidth\":2},\"scene\":{\"xaxis\":{\"backgroundcolor\":\"#E5ECF6\",\"gridcolor\":\"white\",\"linecolor\":\"white\",\"showbackground\":true,\"ticks\":\"\",\"zerolinecolor\":\"white\",\"gridwidth\":2},\"yaxis\":{\"backgroundcolor\":\"#E5ECF6\",\"gridcolor\":\"white\",\"linecolor\":\"white\",\"showbackground\":true,\"ticks\":\"\",\"zerolinecolor\":\"white\",\"gridwidth\":2},\"zaxis\":{\"backgroundcolor\":\"#E5ECF6\",\"gridcolor\":\"white\",\"linecolor\":\"white\",\"showbackground\":true,\"ticks\":\"\",\"zerolinecolor\":\"white\",\"gridwidth\":2}},\"shapedefaults\":{\"line\":{\"color\":\"#2a3f5f\"}},\"annotationdefaults\":{\"arrowcolor\":\"#2a3f5f\",\"arrowhead\":0,\"arrowwidth\":1},\"geo\":{\"bgcolor\":\"white\",\"landcolor\":\"#E5ECF6\",\"subunitcolor\":\"white\",\"showland\":true,\"showlakes\":true,\"lakecolor\":\"white\"},\"title\":{\"x\":0.05},\"mapbox\":{\"style\":\"light\"}}},\"legend\":{\"tracegroupgap\":0},\"title\":{\"text\":\"Sunburst Chart of Academic Stress Index by Stage, Environment, and Coping Strategy\"}},                        {\"responsive\": true}                    ).then(function(){\n",
              "                            \n",
              "var gd = document.getElementById('cf5235ac-1376-4e60-b938-0ddbdeba677f');\n",
              "var x = new MutationObserver(function (mutations, observer) {{\n",
              "        var display = window.getComputedStyle(gd).display;\n",
              "        if (!display || display === 'none') {{\n",
              "            console.log([gd, 'removed!']);\n",
              "            Plotly.purge(gd);\n",
              "            observer.disconnect();\n",
              "        }}\n",
              "}});\n",
              "\n",
              "// Listen for the removal of the full notebook cells\n",
              "var notebookContainer = gd.closest('#notebook-container');\n",
              "if (notebookContainer) {{\n",
              "    x.observe(notebookContainer, {childList: true});\n",
              "}}\n",
              "\n",
              "// Listen for the clearing of the current output cell\n",
              "var outputEl = gd.closest('.output');\n",
              "if (outputEl) {{\n",
              "    x.observe(outputEl, {childList: true});\n",
              "}}\n",
              "\n",
              "                        })                };                            </script>        </div>\n",
              "</body>\n",
              "</html>"
            ]
          },
          "metadata": {}
        }
      ]
    },
    {
      "cell_type": "markdown",
      "metadata": {
        "id": "e36f3ebe"
      },
      "source": [
        "**Sunburst Visualization Inference:**\n",
        "\n",
        "The sunburst chart visually breaks down the 'Rate your academic stress index' hierarchically by 'Your Academic Stage', 'Study Environment', and 'What coping strategy you use as a student?'. The size of each segment corresponds to the sum of the stress index for that specific group. This allows for identifying combinations of academic stage, study environment, and coping strategy that correlate with higher or lower aggregate stress levels. Examining segment proportions helps understand how stress is distributed across these factors, revealing key areas for further investigation into academic stress drivers."
      ]
    },
    {
      "cell_type": "markdown",
      "source": [
        "Based on the sunburst visualization, here are some inferences:\n",
        "\n",
        "The sunburst chart provides a radial view of the hierarchical data, starting from the center with 'Your Academic Stage', then branching out to 'Study Environment', and finally to 'What coping strategy you use as a student?'.\n",
        "\n",
        "The size of each segment in the sunburst chart represents the sum of the 'Rate your academic stress index' for that particular category or combination of categories. Larger segments indicate a higher aggregate stress index.\n",
        "\n",
        "By examining the different segments, you can observe how the academic stress index is distributed across various academic stages, study environments, and coping strategies. For instance, you might be able to identify which combinations of these factors are associated with higher or lower stress levels.\n",
        "\n",
        "Hovering over or clicking on the segments in the interactive chart will provide more detailed information about the specific categories and their corresponding stress index values.\n",
        "\n",
        "To provide more specific inferences, I would need to analyze the visual output of the sunburst chart, but generally, it allows you to:\n",
        "\n",
        "Understand the proportion of the total academic stress index contributed by each academic stage.\n",
        "See how the stress index is distributed across different study environments within each academic stage.\n",
        "Observe the distribution of the stress index among different coping strategies within each study environment and academic stage.\n",
        "This visualization helps in understanding the complex relationships between these factors and academic stress."
      ],
      "metadata": {
        "id": "k9qVBnW84fNa"
      }
    },
    {
      "cell_type": "markdown",
      "metadata": {
        "id": "82a40a65"
      },
      "source": [
        "## Summarize findings\n",
        "\n",
        "### Subtask:\n",
        "Summarize the key findings from the data analysis and visualizations, and outline potential next steps for further investigation.\n"
      ]
    },
    {
      "cell_type": "markdown",
      "metadata": {
        "id": "1e8dc2a2"
      },
      "source": [
        "## Summary:\n",
        "\n",
        "### Data Analysis Key Findings\n",
        "\n",
        "* The dataset contains 140 entries and 9 columns, including 'Your Academic Stage', 'Study Environment', 'What coping strategy you use as a student?', and 'Rate your academic stress index '.\n",
        "* There was one missing value in the 'Study Environment' column, which was successfully imputed with 'Unknown'.\n",
        "* Treemap and sunburst visualizations were successfully generated, showing the distribution of the academic stress index across academic stage, study environment, and coping strategies.\n",
        "\n",
        "### Insights or Next Steps\n",
        "\n",
        "* The visualizations provide a clear hierarchical view of how academic stress index varies across different student demographics and behaviors.\n",
        "* Future analysis could involve exploring correlations between the academic stress index and other columns in the dataset, if available, to understand potential factors contributing to stress levels.\n"
      ]
    },
    {
      "cell_type": "code",
      "source": [],
      "metadata": {
        "id": "a-idZtSz3P_a"
      },
      "execution_count": null,
      "outputs": []
    }
  ]
}